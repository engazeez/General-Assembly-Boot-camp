{
 "cells": [
  {
   "cell_type": "markdown",
   "metadata": {},
   "source": [
    "# Project 1: Driving Licenses, Traffic Accidents and Casualties Analysis"
   ]
  },
  {
   "cell_type": "markdown",
   "metadata": {},
   "source": [
    "## Problem Statment\n"
   ]
  },
  {
   "cell_type": "markdown",
   "metadata": {},
   "source": [
    "Problem statemnt was authed by using 5W1H method\n",
    "\n",
    "What is the problem that needs to be solved?\n",
    "- Reducing accidents, casualties on the roads and limiting it.\n",
    "\n",
    "Why is it a problem?\n",
    "- By looking to consequences of traffic accidents, we find them a painful and costly whether in the human side or economic. What If we save life of many people and prevent more happend accidents? how will be our economic?\n",
    "\n",
    "Where is the problem observed?\n",
    "- The problem is observed on the roads of vhicles\n",
    "\n",
    "Who is impacted? (Human - Economy)\n",
    "- This problem reaps lives and raises economic expenses through treating casualties and buying medicines as well as vehicles damages and facilities.\n",
    "\n",
    "When was the problem first observed?\n",
    "- This problem began when vehicles invented and people started owned its and used them as transfportation manner. Until now it stil as phenomenon does not disappear however we can limit it by implement new rules and fines.\n",
    "\n",
    "How is the problem observed? (symptoms) \n",
    "- Accidents occur as daily basis and result casualties, deaths and other damages in vehicles and facilities"
   ]
  },
  {
   "cell_type": "markdown",
   "metadata": {},
   "source": [
    "## Executive Summary\n",
    "Write an executive summary that summarizes the problem and your key findings."
   ]
  },
  {
   "cell_type": "markdown",
   "metadata": {},
   "source": [
    "In general, traffic accidents are common problem in the world. My country Saudi Arabia still suffering from it, but in the last five years the General Department of Traffic imposed new traffic rules and fines were implemented in October 2016. They limited somewhat of occuring accidents and results casualties and deaths. All regions were accidetns average total dropped except Makkah in 2017 in addition to there was raising in driving licenses issued specifically in 2016 and 2017 and that return population growth. There were some shortage in the features of dataset [Traffic Accidents and Casualties](https://datasource.kapsarc.org/explore/dataset/saudi-arabia-traffic-accidents-and-casualties-injured-dead-2008/export/?disjunctive.region&disjunctive.indicator&sort=time_period) which did not enable us to find the percent of accidents total, casualities and deaths in all years from 1993 - 2015."
   ]
  },
  {
   "cell_type": "markdown",
   "metadata": {},
   "source": [
    "### Contents:\n",
    "- [Datasets Description](#Datasets-Description)\n",
    "- [Data Import & Cleaning](#Data-Import-and-Cleaning)\n",
    "- [Exploratory Data Analysis](#Exploratory-Data-Analysis)\n",
    "- [Data Visualization](#Visualize-the-data)\n",
    "- [Descriptive and Inferential Statistics](#Descriptive-and-Inferential-Statistics)\n",
    "- [Outside Research](#Outside-Research)\n",
    "- [Conclusions and Recommendations](#Conclusions-and-Recommendations)"
   ]
  },
  {
   "cell_type": "code",
   "execution_count": 1,
   "metadata": {},
   "outputs": [],
   "source": [
    "#Imports\n",
    "import numpy as np\n",
    "import pandas as pd\n",
    "import scipy.stats as stats\n",
    "import matplotlib.pyplot as plt\n",
    "import seaborn as sns"
   ]
  },
  {
   "cell_type": "markdown",
   "metadata": {},
   "source": [
    "## Datasets Description\n",
    "\n",
    "[Driving Licenses](https://datasource.kapsarc.org/explore/dataset/saudi-arabia-driving-licenses-issued-in-the-kingdom-2004-2008/information/?disjunctive.administritive_area&sort=time_period&location=5,24.37495,45.08024&basemap=jawg.streets)\n",
    "This dataset contains Saudi Arabia Driving Licenses Issued By Administrative Area for 1993 - 2016. Data from General Authority for Statistics . Follow datasource.kapsarc.org for timely data to advance energy economics research.\n",
    "\n",
    "[Traffic Accidents and Casualties](https://datasource.kapsarc.org/explore/dataset/saudi-arabia-traffic-accidents-and-casualties-injured-dead-2008/export/?disjunctive.region&disjunctive.indicator&sort=time_period)\n",
    "This dataset contains Saudi Arabia Traffic Accidents and Casualties by Region for 2016. Data from General Authority for Statistics. Follow datasource.kapsarc.org for timely data to advance energy economics research.\n"
   ]
  },
  {
   "cell_type": "markdown",
   "metadata": {},
   "source": [
    "[Traffic Accidents and Casualties](https://datasource.kapsarc.org/explore/dataset/saudi-arabia-traffic-accidents-and-casualties-injured-dead-2008/export/?disjunctive.region&disjunctive.indicator&sort=time_period)\n",
    "\n",
    "**features**\n",
    "\n",
    "_Unnamed_: refers to unique id of each row\n",
    "\n",
    "_Year_: refers to year of accidents occure { 2016 - 2017 }\n",
    "\n",
    "_Region_: refers to name of region\n",
    "\n",
    "_Indicator_: refers to casualties { No. of Casualties - Injured, No. of Casualties - Dead, No. of Accidents }\n",
    "\n",
    "_Value_: refers to number of casualties yearly\n",
    "\n",
    "_geo_point_2d_: refers to region coordinate Latitude and Longitude \n",
    "\n",
    "[Driving Licenses](https://datasource.kapsarc.org/explore/dataset/saudi-arabia-driving-licenses-issued-in-the-kingdom-2004-2008/information/?disjunctive.administritive_area&sort=time_period&location=5,24.37495,45.08024&basemap=jawg.streets)\n",
    "\n",
    "**features**\n",
    "\n",
    "_Unnamed_: refers to unique id of each row\n",
    "\n",
    "_Year_: refers to year of accidents occure { 1990 - 2017 }\n",
    "\n",
    "_Administritive Area_: refers to name of region\n",
    "\n",
    "_Driving Liceses_: refers to number of driving licnesnes per year\n",
    "\n",
    "_geo_point_2d_: refers to region coordinate Latitude and Longitude\n"
   ]
  },
  {
   "cell_type": "markdown",
   "metadata": {},
   "source": [
    "## Data Import and Cleaning"
   ]
  },
  {
   "cell_type": "markdown",
   "metadata": {},
   "source": [
    "#### 1. Read In Driving Licenses & Traffic Accidents Data\n",
    "Read in the `saudi-arabia-traffic-accidents-2008.csv` and `saudi-arabia-driving-licenses-2004-2008.csv` files and assign them to appropriately named pandas dataframes."
   ]
  },
  {
   "cell_type": "code",
   "execution_count": 2,
   "metadata": {},
   "outputs": [],
   "source": [
    "#Code\n",
    "\n",
    "# traffic accidents data frame\n",
    "ta_df = pd.read_csv('saudi-arabia-traffic-accidents-2008.csv', delimiter=';', )\n",
    "\n",
    "# driving licenses data frame\n",
    "dl_df = pd.read_csv('saudi-arabia-driving-licenses-2004-2008.csv', delimiter= ';',)"
   ]
  },
  {
   "cell_type": "markdown",
   "metadata": {},
   "source": [
    "#### 2. Display data\n",
    "\n",
    "Print the first 10 rows of each dataframe to your jupyter notebook"
   ]
  },
  {
   "cell_type": "code",
   "execution_count": 3,
   "metadata": {},
   "outputs": [
    {
     "data": {
      "text/html": [
       "<div>\n",
       "<style scoped>\n",
       "    .dataframe tbody tr th:only-of-type {\n",
       "        vertical-align: middle;\n",
       "    }\n",
       "\n",
       "    .dataframe tbody tr th {\n",
       "        vertical-align: top;\n",
       "    }\n",
       "\n",
       "    .dataframe thead th {\n",
       "        text-align: right;\n",
       "    }\n",
       "</style>\n",
       "<table border=\"1\" class=\"dataframe\">\n",
       "  <thead>\n",
       "    <tr style=\"text-align: right;\">\n",
       "      <th></th>\n",
       "      <th>Unnamed: 0</th>\n",
       "      <th>Unnamed: 0.1</th>\n",
       "      <th>Year</th>\n",
       "      <th>Region</th>\n",
       "      <th>Indicator</th>\n",
       "      <th>Value</th>\n",
       "      <th>geo_point_2d</th>\n",
       "    </tr>\n",
       "  </thead>\n",
       "  <tbody>\n",
       "    <tr>\n",
       "      <th>0</th>\n",
       "      <td>0</td>\n",
       "      <td>0</td>\n",
       "      <td>(2016)</td>\n",
       "      <td>Makkah</td>\n",
       "      <td>No. of Casualties - Injured</td>\n",
       "      <td>12383n</td>\n",
       "      <td>21.628962766, 41.2636898334</td>\n",
       "    </tr>\n",
       "    <tr>\n",
       "      <th>1</th>\n",
       "      <td>1</td>\n",
       "      <td>1</td>\n",
       "      <td>(2016)</td>\n",
       "      <td>Eastern Region</td>\n",
       "      <td>No. of Casualties - Dead</td>\n",
       "      <td>1113n</td>\n",
       "      <td>23.2883307307, 50.1478302439</td>\n",
       "    </tr>\n",
       "    <tr>\n",
       "      <th>2</th>\n",
       "      <td>2</td>\n",
       "      <td>2</td>\n",
       "      <td>(2016)</td>\n",
       "      <td>Tabouk</td>\n",
       "      <td>No. of Casualties - Dead</td>\n",
       "      <td>434n</td>\n",
       "      <td>27.90165499, 37.2598581394</td>\n",
       "    </tr>\n",
       "    <tr>\n",
       "      <th>3</th>\n",
       "      <td>3</td>\n",
       "      <td>3</td>\n",
       "      <td>(2016)</td>\n",
       "      <td>Hail</td>\n",
       "      <td>No. of Casualties - Dead</td>\n",
       "      <td>299n</td>\n",
       "      <td>27.400845724, 41.4406960508</td>\n",
       "    </tr>\n",
       "    <tr>\n",
       "      <th>4</th>\n",
       "      <td>4</td>\n",
       "      <td>4</td>\n",
       "      <td>(2016)</td>\n",
       "      <td>Hail</td>\n",
       "      <td>No. of Accidents</td>\n",
       "      <td>10199n</td>\n",
       "      <td>27.400845724, 41.4406960508</td>\n",
       "    </tr>\n",
       "    <tr>\n",
       "      <th>5</th>\n",
       "      <td>5</td>\n",
       "      <td>5</td>\n",
       "      <td>(2016)</td>\n",
       "      <td>Northern Boarder</td>\n",
       "      <td>No. of Casualties - Dead</td>\n",
       "      <td>193n</td>\n",
       "      <td>30.197074783, 41.8171186952</td>\n",
       "    </tr>\n",
       "    <tr>\n",
       "      <th>6</th>\n",
       "      <td>6</td>\n",
       "      <td>6</td>\n",
       "      <td>(2017)</td>\n",
       "      <td>Jazan</td>\n",
       "      <td>No. of Accidents</td>\n",
       "      <td>22161n</td>\n",
       "      <td>17.2072313962, 42.6525807422</td>\n",
       "    </tr>\n",
       "    <tr>\n",
       "      <th>7</th>\n",
       "      <td>7</td>\n",
       "      <td>7</td>\n",
       "      <td>(2017)</td>\n",
       "      <td>Al-Jouf</td>\n",
       "      <td>No. of Accidents</td>\n",
       "      <td>10469n</td>\n",
       "      <td>29.9677445762, 39.5570371172</td>\n",
       "    </tr>\n",
       "    <tr>\n",
       "      <th>8</th>\n",
       "      <td>8</td>\n",
       "      <td>8</td>\n",
       "      <td>(2017)</td>\n",
       "      <td>Total</td>\n",
       "      <td>No. of Casualties - Dead</td>\n",
       "      <td>7489n</td>\n",
       "      <td>NaN</td>\n",
       "    </tr>\n",
       "    <tr>\n",
       "      <th>9</th>\n",
       "      <td>9</td>\n",
       "      <td>9</td>\n",
       "      <td>(2016)</td>\n",
       "      <td>Northern Boarder</td>\n",
       "      <td>No. of Casualties - Injured</td>\n",
       "      <td>631n</td>\n",
       "      <td>30.197074783, 41.8171186952</td>\n",
       "    </tr>\n",
       "  </tbody>\n",
       "</table>\n",
       "</div>"
      ],
      "text/plain": [
       "   Unnamed: 0  Unnamed: 0.1    Year            Region  \\\n",
       "0           0             0  (2016)            Makkah   \n",
       "1           1             1  (2016)    Eastern Region   \n",
       "2           2             2  (2016)            Tabouk   \n",
       "3           3             3  (2016)              Hail   \n",
       "4           4             4  (2016)              Hail   \n",
       "5           5             5  (2016)  Northern Boarder   \n",
       "6           6             6  (2017)             Jazan   \n",
       "7           7             7  (2017)           Al-Jouf   \n",
       "8           8             8  (2017)             Total   \n",
       "9           9             9  (2016)  Northern Boarder   \n",
       "\n",
       "                     Indicator   Value                  geo_point_2d  \n",
       "0  No. of Casualties - Injured  12383n   21.628962766, 41.2636898334  \n",
       "1     No. of Casualties - Dead   1113n  23.2883307307, 50.1478302439  \n",
       "2     No. of Casualties - Dead    434n    27.90165499, 37.2598581394  \n",
       "3     No. of Casualties - Dead    299n   27.400845724, 41.4406960508  \n",
       "4             No. of Accidents  10199n   27.400845724, 41.4406960508  \n",
       "5     No. of Casualties - Dead    193n   30.197074783, 41.8171186952  \n",
       "6             No. of Accidents  22161n  17.2072313962, 42.6525807422  \n",
       "7             No. of Accidents  10469n  29.9677445762, 39.5570371172  \n",
       "8     No. of Casualties - Dead   7489n                           NaN  \n",
       "9  No. of Casualties - Injured    631n   30.197074783, 41.8171186952  "
      ]
     },
     "execution_count": 3,
     "metadata": {},
     "output_type": "execute_result"
    }
   ],
   "source": [
    "#Code\n",
    "# the first 10 rows of traffic accidents\n",
    "ta_df.head(10)"
   ]
  },
  {
   "cell_type": "code",
   "execution_count": 4,
   "metadata": {},
   "outputs": [
    {
     "name": "stdout",
     "output_type": "stream",
     "text": [
      "(84, 7)\n"
     ]
    }
   ],
   "source": [
    "print(ta_df.shape)"
   ]
  },
  {
   "cell_type": "code",
   "execution_count": 5,
   "metadata": {
    "scrolled": true
   },
   "outputs": [
    {
     "data": {
      "text/html": [
       "<div>\n",
       "<style scoped>\n",
       "    .dataframe tbody tr th:only-of-type {\n",
       "        vertical-align: middle;\n",
       "    }\n",
       "\n",
       "    .dataframe tbody tr th {\n",
       "        vertical-align: top;\n",
       "    }\n",
       "\n",
       "    .dataframe thead th {\n",
       "        text-align: right;\n",
       "    }\n",
       "</style>\n",
       "<table border=\"1\" class=\"dataframe\">\n",
       "  <thead>\n",
       "    <tr style=\"text-align: right;\">\n",
       "      <th></th>\n",
       "      <th>Unnamed: 0</th>\n",
       "      <th>Year</th>\n",
       "      <th>Administritive Area</th>\n",
       "      <th>Driving Liceses</th>\n",
       "      <th>geo_point_2d</th>\n",
       "    </tr>\n",
       "  </thead>\n",
       "  <tbody>\n",
       "    <tr>\n",
       "      <th>0</th>\n",
       "      <td>0</td>\n",
       "      <td>(2012)</td>\n",
       "      <td>Makkah</td>\n",
       "      <td>143954n</td>\n",
       "      <td>21.628962766, 41.2636898334</td>\n",
       "    </tr>\n",
       "    <tr>\n",
       "      <th>1</th>\n",
       "      <td>1</td>\n",
       "      <td>(1994)</td>\n",
       "      <td>Makkah</td>\n",
       "      <td>75349n</td>\n",
       "      <td>21.628962766, 41.2636898334</td>\n",
       "    </tr>\n",
       "    <tr>\n",
       "      <th>2</th>\n",
       "      <td>2</td>\n",
       "      <td>(1998)</td>\n",
       "      <td>Makkah</td>\n",
       "      <td>86082n</td>\n",
       "      <td>21.628962766, 41.2636898334</td>\n",
       "    </tr>\n",
       "    <tr>\n",
       "      <th>3</th>\n",
       "      <td>3</td>\n",
       "      <td>(2004)</td>\n",
       "      <td>Makkah</td>\n",
       "      <td>86636n</td>\n",
       "      <td>21.628962766, 41.2636898334</td>\n",
       "    </tr>\n",
       "    <tr>\n",
       "      <th>4</th>\n",
       "      <td>4</td>\n",
       "      <td>(2005)</td>\n",
       "      <td>Makkah</td>\n",
       "      <td>65099n</td>\n",
       "      <td>21.628962766, 41.2636898334</td>\n",
       "    </tr>\n",
       "    <tr>\n",
       "      <th>5</th>\n",
       "      <td>5</td>\n",
       "      <td>(2008)</td>\n",
       "      <td>Makkah</td>\n",
       "      <td>77013n</td>\n",
       "      <td>21.628962766, 41.2636898334</td>\n",
       "    </tr>\n",
       "    <tr>\n",
       "      <th>6</th>\n",
       "      <td>6</td>\n",
       "      <td>(2014)</td>\n",
       "      <td>Madinah</td>\n",
       "      <td>31447n</td>\n",
       "      <td>24.927534539, 39.4918237173</td>\n",
       "    </tr>\n",
       "    <tr>\n",
       "      <th>7</th>\n",
       "      <td>7</td>\n",
       "      <td>(2013)</td>\n",
       "      <td>Madinah</td>\n",
       "      <td>28513n</td>\n",
       "      <td>24.927534539, 39.4918237173</td>\n",
       "    </tr>\n",
       "    <tr>\n",
       "      <th>8</th>\n",
       "      <td>8</td>\n",
       "      <td>(2012)</td>\n",
       "      <td>Madinah</td>\n",
       "      <td>14459n</td>\n",
       "      <td>24.927534539, 39.4918237173</td>\n",
       "    </tr>\n",
       "    <tr>\n",
       "      <th>9</th>\n",
       "      <td>9</td>\n",
       "      <td>(1994)</td>\n",
       "      <td>Madinah</td>\n",
       "      <td>3767n</td>\n",
       "      <td>24.927534539, 39.4918237173</td>\n",
       "    </tr>\n",
       "  </tbody>\n",
       "</table>\n",
       "</div>"
      ],
      "text/plain": [
       "   Unnamed: 0    Year Administritive Area Driving Liceses  \\\n",
       "0           0  (2012)              Makkah         143954n   \n",
       "1           1  (1994)              Makkah          75349n   \n",
       "2           2  (1998)              Makkah          86082n   \n",
       "3           3  (2004)              Makkah          86636n   \n",
       "4           4  (2005)              Makkah          65099n   \n",
       "5           5  (2008)              Makkah          77013n   \n",
       "6           6  (2014)             Madinah          31447n   \n",
       "7           7  (2013)             Madinah          28513n   \n",
       "8           8  (2012)             Madinah          14459n   \n",
       "9           9  (1994)             Madinah           3767n   \n",
       "\n",
       "                  geo_point_2d  \n",
       "0  21.628962766, 41.2636898334  \n",
       "1  21.628962766, 41.2636898334  \n",
       "2  21.628962766, 41.2636898334  \n",
       "3  21.628962766, 41.2636898334  \n",
       "4  21.628962766, 41.2636898334  \n",
       "5  21.628962766, 41.2636898334  \n",
       "6  24.927534539, 39.4918237173  \n",
       "7  24.927534539, 39.4918237173  \n",
       "8  24.927534539, 39.4918237173  \n",
       "9  24.927534539, 39.4918237173  "
      ]
     },
     "execution_count": 5,
     "metadata": {},
     "output_type": "execute_result"
    }
   ],
   "source": [
    "# the first 10 rows of driving licenses\n",
    "dl_df.head(10)"
   ]
  },
  {
   "cell_type": "code",
   "execution_count": 6,
   "metadata": {},
   "outputs": [
    {
     "data": {
      "text/plain": [
       "(350, 5)"
      ]
     },
     "execution_count": 6,
     "metadata": {},
     "output_type": "execute_result"
    }
   ],
   "source": [
    "dl_df.shape"
   ]
  },
  {
   "cell_type": "markdown",
   "metadata": {},
   "source": [
    "#### 3. Briefly describe the data\n",
    "\n",
    "Take your time looking through the data and briefly describe the data in the markdown cell below. Note things about what the columns might mean, and the general information that is conveyed in the dataframe."
   ]
  },
  {
   "cell_type": "markdown",
   "metadata": {},
   "source": [
    "Answer:\n",
    "- There are more than id columns in each dataframe\n",
    "  ta_df = [Unnamed: 0, Unnamed: 0.1], dl_df = [Unnamed: 0]\n",
    "- There are similar columns with some different values. \n",
    "  ta_df = [Year, Region ], dl_df = [Year, Adminsitritive Area]\n",
    "- There are same column with same values.\n",
    "  ta_df = [geo_point_2d], dl_df = [geo_point_2d]\n",
    "- There are different columns with different values.\n",
    "  ta_df = [Value], dl_df = [Driving Liceses]\n",
    "- There are numeric columns with characters.\n",
    "  ta_df = [Year, Value], dl_df = [Year, Driving Liceses]\n",
    "- We can modify the column's names with appropriate names"
   ]
  },
  {
   "cell_type": "markdown",
   "metadata": {},
   "source": [
    "#### 4a. How complete is the data?\n",
    "\n",
    "Investigate missing values etc."
   ]
  },
  {
   "cell_type": "code",
   "execution_count": 7,
   "metadata": {
    "scrolled": true
   },
   "outputs": [
    {
     "data": {
      "image/png": "[encoded data removed]",
      "text/plain": [
       "<Figure size 432x288 with 2 Axes>"
      ]
     },
     "metadata": {
      "needs_background": "light"
     },
     "output_type": "display_data"
    }
   ],
   "source": [
    "#Code\n",
    "# create heatmap to show missing values at traffic accidents dataframe\n",
    "sns.heatmap(ta_df.isna());"
   ]
  },
  {
   "cell_type": "code",
   "execution_count": 8,
   "metadata": {},
   "outputs": [
    {
     "data": {
      "text/html": [
       "<div>\n",
       "<style scoped>\n",
       "    .dataframe tbody tr th:only-of-type {\n",
       "        vertical-align: middle;\n",
       "    }\n",
       "\n",
       "    .dataframe tbody tr th {\n",
       "        vertical-align: top;\n",
       "    }\n",
       "\n",
       "    .dataframe thead th {\n",
       "        text-align: right;\n",
       "    }\n",
       "</style>\n",
       "<table border=\"1\" class=\"dataframe\">\n",
       "  <thead>\n",
       "    <tr style=\"text-align: right;\">\n",
       "      <th></th>\n",
       "      <th>Unnamed: 0</th>\n",
       "      <th>Unnamed: 0.1</th>\n",
       "      <th>Year</th>\n",
       "      <th>Region</th>\n",
       "      <th>Indicator</th>\n",
       "      <th>Value</th>\n",
       "      <th>geo_point_2d</th>\n",
       "    </tr>\n",
       "  </thead>\n",
       "  <tbody>\n",
       "    <tr>\n",
       "      <th>8</th>\n",
       "      <td>8</td>\n",
       "      <td>8</td>\n",
       "      <td>(2017)</td>\n",
       "      <td>Total</td>\n",
       "      <td>No. of Casualties - Dead</td>\n",
       "      <td>7489n</td>\n",
       "      <td>NaN</td>\n",
       "    </tr>\n",
       "    <tr>\n",
       "      <th>29</th>\n",
       "      <td>29</td>\n",
       "      <td>29</td>\n",
       "      <td>(2016)</td>\n",
       "      <td>Total</td>\n",
       "      <td>No. of Accidents</td>\n",
       "      <td>533380n</td>\n",
       "      <td>NaN</td>\n",
       "    </tr>\n",
       "    <tr>\n",
       "      <th>30</th>\n",
       "      <td>30</td>\n",
       "      <td>30</td>\n",
       "      <td>(2016)</td>\n",
       "      <td>Total</td>\n",
       "      <td>No. of Casualties - Injured</td>\n",
       "      <td>38120n</td>\n",
       "      <td>NaN</td>\n",
       "    </tr>\n",
       "    <tr>\n",
       "      <th>68</th>\n",
       "      <td>68</td>\n",
       "      <td>68</td>\n",
       "      <td>(2017)</td>\n",
       "      <td>Total</td>\n",
       "      <td>No. of Accidents</td>\n",
       "      <td>460488n</td>\n",
       "      <td>NaN</td>\n",
       "    </tr>\n",
       "    <tr>\n",
       "      <th>69</th>\n",
       "      <td>69</td>\n",
       "      <td>69</td>\n",
       "      <td>(2017)</td>\n",
       "      <td>Total</td>\n",
       "      <td>No. of Casualties - Injured</td>\n",
       "      <td>33199n</td>\n",
       "      <td>NaN</td>\n",
       "    </tr>\n",
       "    <tr>\n",
       "      <th>77</th>\n",
       "      <td>77</td>\n",
       "      <td>77</td>\n",
       "      <td>(2016)</td>\n",
       "      <td>Total</td>\n",
       "      <td>No. of Casualties - Dead</td>\n",
       "      <td>9031n</td>\n",
       "      <td>NaN</td>\n",
       "    </tr>\n",
       "  </tbody>\n",
       "</table>\n",
       "</div>"
      ],
      "text/plain": [
       "    Unnamed: 0  Unnamed: 0.1    Year Region                    Indicator  \\\n",
       "8            8             8  (2017)  Total     No. of Casualties - Dead   \n",
       "29          29            29  (2016)  Total             No. of Accidents   \n",
       "30          30            30  (2016)  Total  No. of Casualties - Injured   \n",
       "68          68            68  (2017)  Total             No. of Accidents   \n",
       "69          69            69  (2017)  Total  No. of Casualties - Injured   \n",
       "77          77            77  (2016)  Total     No. of Casualties - Dead   \n",
       "\n",
       "      Value geo_point_2d  \n",
       "8     7489n          NaN  \n",
       "29  533380n          NaN  \n",
       "30   38120n          NaN  \n",
       "68  460488n          NaN  \n",
       "69   33199n          NaN  \n",
       "77    9031n          NaN  "
      ]
     },
     "execution_count": 8,
     "metadata": {},
     "output_type": "execute_result"
    }
   ],
   "source": [
    "# determine all rows that contines missing values \n",
    "ta_missing_vals = ta_df[ta_df['geo_point_2d'].isna()]\n",
    "ta_missing_vals"
   ]
  },
  {
   "cell_type": "code",
   "execution_count": 9,
   "metadata": {
    "scrolled": true
   },
   "outputs": [
    {
     "data": {
      "image/png": "[encoded data removed]",
      "text/plain": [
       "<Figure size 432x288 with 2 Axes>"
      ]
     },
     "metadata": {
      "needs_background": "light"
     },
     "output_type": "display_data"
    }
   ],
   "source": [
    "# create heatmap to show messing values at driving lecinces data frame\n",
    "sns.heatmap(dl_df.isna());"
   ]
  },
  {
   "cell_type": "code",
   "execution_count": 10,
   "metadata": {},
   "outputs": [
    {
     "data": {
      "text/html": [
       "<div>\n",
       "<style scoped>\n",
       "    .dataframe tbody tr th:only-of-type {\n",
       "        vertical-align: middle;\n",
       "    }\n",
       "\n",
       "    .dataframe tbody tr th {\n",
       "        vertical-align: top;\n",
       "    }\n",
       "\n",
       "    .dataframe thead th {\n",
       "        text-align: right;\n",
       "    }\n",
       "</style>\n",
       "<table border=\"1\" class=\"dataframe\">\n",
       "  <thead>\n",
       "    <tr style=\"text-align: right;\">\n",
       "      <th></th>\n",
       "      <th>Unnamed: 0</th>\n",
       "      <th>Year</th>\n",
       "      <th>Administritive Area</th>\n",
       "      <th>Driving Liceses</th>\n",
       "      <th>geo_point_2d</th>\n",
       "    </tr>\n",
       "  </thead>\n",
       "  <tbody>\n",
       "    <tr>\n",
       "      <th>58</th>\n",
       "      <td>58</td>\n",
       "      <td>(2015)</td>\n",
       "      <td>Total</td>\n",
       "      <td>435439n</td>\n",
       "      <td>NaN</td>\n",
       "    </tr>\n",
       "    <tr>\n",
       "      <th>59</th>\n",
       "      <td>59</td>\n",
       "      <td>(2017)</td>\n",
       "      <td>Total</td>\n",
       "      <td>928165n</td>\n",
       "      <td>NaN</td>\n",
       "    </tr>\n",
       "    <tr>\n",
       "      <th>60</th>\n",
       "      <td>60</td>\n",
       "      <td>(1993)</td>\n",
       "      <td>Total</td>\n",
       "      <td>294893n</td>\n",
       "      <td>NaN</td>\n",
       "    </tr>\n",
       "    <tr>\n",
       "      <th>61</th>\n",
       "      <td>61</td>\n",
       "      <td>(1994)</td>\n",
       "      <td>Total</td>\n",
       "      <td>303520n</td>\n",
       "      <td>NaN</td>\n",
       "    </tr>\n",
       "    <tr>\n",
       "      <th>62</th>\n",
       "      <td>62</td>\n",
       "      <td>(2003)</td>\n",
       "      <td>Total</td>\n",
       "      <td>254858n</td>\n",
       "      <td>NaN</td>\n",
       "    </tr>\n",
       "    <tr>\n",
       "      <th>63</th>\n",
       "      <td>63</td>\n",
       "      <td>(2006)</td>\n",
       "      <td>Total</td>\n",
       "      <td>267508n</td>\n",
       "      <td>NaN</td>\n",
       "    </tr>\n",
       "    <tr>\n",
       "      <th>142</th>\n",
       "      <td>142</td>\n",
       "      <td>(2014)</td>\n",
       "      <td>Total</td>\n",
       "      <td>625414n</td>\n",
       "      <td>NaN</td>\n",
       "    </tr>\n",
       "    <tr>\n",
       "      <th>143</th>\n",
       "      <td>143</td>\n",
       "      <td>(2010)</td>\n",
       "      <td>Total</td>\n",
       "      <td>386510n</td>\n",
       "      <td>NaN</td>\n",
       "    </tr>\n",
       "    <tr>\n",
       "      <th>144</th>\n",
       "      <td>144</td>\n",
       "      <td>(2012)</td>\n",
       "      <td>Total</td>\n",
       "      <td>411204n</td>\n",
       "      <td>NaN</td>\n",
       "    </tr>\n",
       "    <tr>\n",
       "      <th>145</th>\n",
       "      <td>145</td>\n",
       "      <td>(1999)</td>\n",
       "      <td>Total</td>\n",
       "      <td>332210n</td>\n",
       "      <td>NaN</td>\n",
       "    </tr>\n",
       "    <tr>\n",
       "      <th>146</th>\n",
       "      <td>146</td>\n",
       "      <td>(2002)</td>\n",
       "      <td>Total</td>\n",
       "      <td>282038n</td>\n",
       "      <td>NaN</td>\n",
       "    </tr>\n",
       "    <tr>\n",
       "      <th>147</th>\n",
       "      <td>147</td>\n",
       "      <td>(2001)</td>\n",
       "      <td>Total</td>\n",
       "      <td>264725n</td>\n",
       "      <td>NaN</td>\n",
       "    </tr>\n",
       "    <tr>\n",
       "      <th>148</th>\n",
       "      <td>148</td>\n",
       "      <td>(2004)</td>\n",
       "      <td>Total</td>\n",
       "      <td>268738n</td>\n",
       "      <td>NaN</td>\n",
       "    </tr>\n",
       "    <tr>\n",
       "      <th>149</th>\n",
       "      <td>149</td>\n",
       "      <td>(2005)</td>\n",
       "      <td>Total</td>\n",
       "      <td>251203n</td>\n",
       "      <td>NaN</td>\n",
       "    </tr>\n",
       "    <tr>\n",
       "      <th>150</th>\n",
       "      <td>150</td>\n",
       "      <td>(2009)</td>\n",
       "      <td>Total</td>\n",
       "      <td>376275n</td>\n",
       "      <td>NaN</td>\n",
       "    </tr>\n",
       "    <tr>\n",
       "      <th>162</th>\n",
       "      <td>162</td>\n",
       "      <td>(2011)</td>\n",
       "      <td>Total</td>\n",
       "      <td>400558n</td>\n",
       "      <td>NaN</td>\n",
       "    </tr>\n",
       "    <tr>\n",
       "      <th>163</th>\n",
       "      <td>163</td>\n",
       "      <td>(2000)</td>\n",
       "      <td>Total</td>\n",
       "      <td>273238n</td>\n",
       "      <td>NaN</td>\n",
       "    </tr>\n",
       "    <tr>\n",
       "      <th>164</th>\n",
       "      <td>164</td>\n",
       "      <td>(2007)</td>\n",
       "      <td>Total</td>\n",
       "      <td>331356n</td>\n",
       "      <td>NaN</td>\n",
       "    </tr>\n",
       "    <tr>\n",
       "      <th>165</th>\n",
       "      <td>165</td>\n",
       "      <td>(2008)</td>\n",
       "      <td>Total</td>\n",
       "      <td>330158n</td>\n",
       "      <td>NaN</td>\n",
       "    </tr>\n",
       "    <tr>\n",
       "      <th>239</th>\n",
       "      <td>239</td>\n",
       "      <td>(2013)</td>\n",
       "      <td>Total</td>\n",
       "      <td>565314n</td>\n",
       "      <td>NaN</td>\n",
       "    </tr>\n",
       "    <tr>\n",
       "      <th>240</th>\n",
       "      <td>240</td>\n",
       "      <td>(1995)</td>\n",
       "      <td>Total</td>\n",
       "      <td>251878n</td>\n",
       "      <td>NaN</td>\n",
       "    </tr>\n",
       "    <tr>\n",
       "      <th>314</th>\n",
       "      <td>314</td>\n",
       "      <td>(2016)</td>\n",
       "      <td>Total</td>\n",
       "      <td>697017n</td>\n",
       "      <td>NaN</td>\n",
       "    </tr>\n",
       "    <tr>\n",
       "      <th>315</th>\n",
       "      <td>315</td>\n",
       "      <td>(1997)</td>\n",
       "      <td>Total</td>\n",
       "      <td>289296n</td>\n",
       "      <td>NaN</td>\n",
       "    </tr>\n",
       "    <tr>\n",
       "      <th>316</th>\n",
       "      <td>316</td>\n",
       "      <td>(1996)</td>\n",
       "      <td>Total</td>\n",
       "      <td>237623n</td>\n",
       "      <td>NaN</td>\n",
       "    </tr>\n",
       "    <tr>\n",
       "      <th>317</th>\n",
       "      <td>317</td>\n",
       "      <td>(1998)</td>\n",
       "      <td>Total</td>\n",
       "      <td>338350n</td>\n",
       "      <td>NaN</td>\n",
       "    </tr>\n",
       "  </tbody>\n",
       "</table>\n",
       "</div>"
      ],
      "text/plain": [
       "     Unnamed: 0    Year Administritive Area Driving Liceses geo_point_2d\n",
       "58           58  (2015)               Total         435439n          NaN\n",
       "59           59  (2017)               Total         928165n          NaN\n",
       "60           60  (1993)               Total         294893n          NaN\n",
       "61           61  (1994)               Total         303520n          NaN\n",
       "62           62  (2003)               Total         254858n          NaN\n",
       "63           63  (2006)               Total         267508n          NaN\n",
       "142         142  (2014)               Total         625414n          NaN\n",
       "143         143  (2010)               Total         386510n          NaN\n",
       "144         144  (2012)               Total         411204n          NaN\n",
       "145         145  (1999)               Total         332210n          NaN\n",
       "146         146  (2002)               Total         282038n          NaN\n",
       "147         147  (2001)               Total         264725n          NaN\n",
       "148         148  (2004)               Total         268738n          NaN\n",
       "149         149  (2005)               Total         251203n          NaN\n",
       "150         150  (2009)               Total         376275n          NaN\n",
       "162         162  (2011)               Total         400558n          NaN\n",
       "163         163  (2000)               Total         273238n          NaN\n",
       "164         164  (2007)               Total         331356n          NaN\n",
       "165         165  (2008)               Total         330158n          NaN\n",
       "239         239  (2013)               Total         565314n          NaN\n",
       "240         240  (1995)               Total         251878n          NaN\n",
       "314         314  (2016)               Total         697017n          NaN\n",
       "315         315  (1997)               Total         289296n          NaN\n",
       "316         316  (1996)               Total         237623n          NaN\n",
       "317         317  (1998)               Total         338350n          NaN"
      ]
     },
     "execution_count": 10,
     "metadata": {},
     "output_type": "execute_result"
    }
   ],
   "source": [
    "# determine all rows that contines messing values \n",
    "dl_missing_vals = dl_df[dl_df['geo_point_2d'].isna()]\n",
    "dl_missing_vals"
   ]
  },
  {
   "cell_type": "markdown",
   "metadata": {},
   "source": [
    "#### 4b. Are there any obvious issues with the observations?\n",
    "\n",
    "**What is the minimum *possible* value for each dataset? What is the maximum *possible* value?**"
   ]
  },
  {
   "cell_type": "markdown",
   "metadata": {},
   "source": [
    "**Minimum value**"
   ]
  },
  {
   "cell_type": "code",
   "execution_count": 11,
   "metadata": {},
   "outputs": [
    {
     "data": {
      "text/plain": [
       "Unnamed: 0                     0\n",
       "Unnamed: 0.1                   0\n",
       "Year                      (2016)\n",
       "Region                  Al-Baaha\n",
       "Indicator       No. of Accidents\n",
       "Value                      1007n\n",
       "dtype: object"
      ]
     },
     "execution_count": 11,
     "metadata": {},
     "output_type": "execute_result"
    }
   ],
   "source": [
    "#Code\n",
    "# the minimum value for traffic accidents dataframe\n",
    "ta_df.min()"
   ]
  },
  {
   "cell_type": "code",
   "execution_count": 12,
   "metadata": {},
   "outputs": [
    {
     "data": {
      "text/plain": [
       "Unnamed: 0                   0\n",
       "Year                    (1993)\n",
       "Administritive Area    Al-Baha\n",
       "Driving Liceses        100291n\n",
       "dtype: object"
      ]
     },
     "execution_count": 12,
     "metadata": {},
     "output_type": "execute_result"
    }
   ],
   "source": [
    "# the minimum value for driving licenses dataframe\n",
    "dl_df.min()"
   ]
  },
  {
   "cell_type": "markdown",
   "metadata": {},
   "source": [
    "**Maximum value**"
   ]
  },
  {
   "cell_type": "code",
   "execution_count": 13,
   "metadata": {},
   "outputs": [
    {
     "data": {
      "text/plain": [
       "Unnamed: 0                               83\n",
       "Unnamed: 0.1                             83\n",
       "Year                                 (2017)\n",
       "Region                                Total\n",
       "Indicator       No. of Casualties - Injured\n",
       "Value                                99925n\n",
       "dtype: object"
      ]
     },
     "execution_count": 13,
     "metadata": {},
     "output_type": "execute_result"
    }
   ],
   "source": [
    "# the maximum value for traffic accidents dataframe\n",
    "ta_df.max()"
   ]
  },
  {
   "cell_type": "code",
   "execution_count": 14,
   "metadata": {},
   "outputs": [
    {
     "data": {
      "text/plain": [
       "Unnamed: 0                349\n",
       "Year                   (2017)\n",
       "Administritive Area     Total\n",
       "Driving Liceses         9983n\n",
       "dtype: object"
      ]
     },
     "execution_count": 14,
     "metadata": {},
     "output_type": "execute_result"
    }
   ],
   "source": [
    "# the maximum value for driving liecenses dataframe\n",
    "dl_df.max()"
   ]
  },
  {
   "cell_type": "markdown",
   "metadata": {},
   "source": [
    "#### 5. What are your data types? \n",
    "Display the data types of each feature. "
   ]
  },
  {
   "cell_type": "code",
   "execution_count": 15,
   "metadata": {
    "scrolled": false
   },
   "outputs": [
    {
     "data": {
      "text/plain": [
       "Unnamed: 0       int64\n",
       "Unnamed: 0.1     int64\n",
       "Year            object\n",
       "Region          object\n",
       "Indicator       object\n",
       "Value           object\n",
       "geo_point_2d    object\n",
       "dtype: object"
      ]
     },
     "execution_count": 15,
     "metadata": {},
     "output_type": "execute_result"
    }
   ],
   "source": [
    "#code\n",
    "# data types of traffic accidents features  \n",
    "ta_df.dtypes"
   ]
  },
  {
   "cell_type": "code",
   "execution_count": 16,
   "metadata": {},
   "outputs": [
    {
     "data": {
      "text/plain": [
       "Unnamed: 0              int64\n",
       "Year                   object\n",
       "Administritive Area    object\n",
       "Driving Liceses        object\n",
       "geo_point_2d           object\n",
       "dtype: object"
      ]
     },
     "execution_count": 16,
     "metadata": {},
     "output_type": "execute_result"
    }
   ],
   "source": [
    "# data types of driving liceneses features\n",
    "dl_df.dtypes"
   ]
  },
  {
   "cell_type": "markdown",
   "metadata": {},
   "source": [
    "What did you learn?\n",
    "- Do any of them seem odd?  \n",
    "- Which ones are not as they should be?  "
   ]
  },
  {
   "cell_type": "markdown",
   "metadata": {},
   "source": [
    "Answer: \n",
    "\n",
    "All missing values appeared in the last column `geo_point_2d` for each dataframe when `ta_df['Region'] and dl_df['Administration Area']` columns with value of `total` "
   ]
  },
  {
   "cell_type": "markdown",
   "metadata": {},
   "source": [
    "#### 6. Fix incorrect data types\n",
    "Based on what you discovered above, use appropriate methods to re-type incorrectly typed data.\n",
    "- Define a function that will allow you to convert numerical columns to an appropriate numeric type. Use `map` or `apply` to change these columns in each dataframe."
   ]
  },
  {
   "cell_type": "markdown",
   "metadata": {},
   "source": [
    "**Clean1:**\n",
    " - Removing an redundant columns `ta_df[ Unnamed: 0, Unnamed: 0.1 ]` and `dl_df[Unnamed: 0]`"
   ]
  },
  {
   "cell_type": "code",
   "execution_count": 17,
   "metadata": {},
   "outputs": [
    {
     "data": {
      "text/html": [
       "<div>\n",
       "<style scoped>\n",
       "    .dataframe tbody tr th:only-of-type {\n",
       "        vertical-align: middle;\n",
       "    }\n",
       "\n",
       "    .dataframe tbody tr th {\n",
       "        vertical-align: top;\n",
       "    }\n",
       "\n",
       "    .dataframe thead th {\n",
       "        text-align: right;\n",
       "    }\n",
       "</style>\n",
       "<table border=\"1\" class=\"dataframe\">\n",
       "  <thead>\n",
       "    <tr style=\"text-align: right;\">\n",
       "      <th></th>\n",
       "      <th>Year</th>\n",
       "      <th>Region</th>\n",
       "      <th>Indicator</th>\n",
       "      <th>Value</th>\n",
       "      <th>geo_point_2d</th>\n",
       "    </tr>\n",
       "  </thead>\n",
       "  <tbody>\n",
       "    <tr>\n",
       "      <th>0</th>\n",
       "      <td>(2016)</td>\n",
       "      <td>Makkah</td>\n",
       "      <td>No. of Casualties - Injured</td>\n",
       "      <td>12383n</td>\n",
       "      <td>21.628962766, 41.2636898334</td>\n",
       "    </tr>\n",
       "    <tr>\n",
       "      <th>1</th>\n",
       "      <td>(2016)</td>\n",
       "      <td>Eastern Region</td>\n",
       "      <td>No. of Casualties - Dead</td>\n",
       "      <td>1113n</td>\n",
       "      <td>23.2883307307, 50.1478302439</td>\n",
       "    </tr>\n",
       "  </tbody>\n",
       "</table>\n",
       "</div>"
      ],
      "text/plain": [
       "     Year          Region                    Indicator   Value  \\\n",
       "0  (2016)          Makkah  No. of Casualties - Injured  12383n   \n",
       "1  (2016)  Eastern Region     No. of Casualties - Dead   1113n   \n",
       "\n",
       "                   geo_point_2d  \n",
       "0   21.628962766, 41.2636898334  \n",
       "1  23.2883307307, 50.1478302439  "
      ]
     },
     "execution_count": 17,
     "metadata": {},
     "output_type": "execute_result"
    }
   ],
   "source": [
    "#code\n",
    "# Removing 1st and 2nd columns from traffic-accidents dataset because they are similar to index\n",
    "ta_col = ['Year', 'Region', 'Indicator', 'Value', 'geo_point_2d']\n",
    "\n",
    "ta_df = ta_df[ta_col]\n",
    "ta_df.head(2)"
   ]
  },
  {
   "cell_type": "code",
   "execution_count": 18,
   "metadata": {
    "scrolled": true
   },
   "outputs": [
    {
     "data": {
      "text/html": [
       "<div>\n",
       "<style scoped>\n",
       "    .dataframe tbody tr th:only-of-type {\n",
       "        vertical-align: middle;\n",
       "    }\n",
       "\n",
       "    .dataframe tbody tr th {\n",
       "        vertical-align: top;\n",
       "    }\n",
       "\n",
       "    .dataframe thead th {\n",
       "        text-align: right;\n",
       "    }\n",
       "</style>\n",
       "<table border=\"1\" class=\"dataframe\">\n",
       "  <thead>\n",
       "    <tr style=\"text-align: right;\">\n",
       "      <th></th>\n",
       "      <th>Year</th>\n",
       "      <th>Administritive Area</th>\n",
       "      <th>Driving Liceses</th>\n",
       "      <th>geo_point_2d</th>\n",
       "    </tr>\n",
       "  </thead>\n",
       "  <tbody>\n",
       "    <tr>\n",
       "      <th>0</th>\n",
       "      <td>(2012)</td>\n",
       "      <td>Makkah</td>\n",
       "      <td>143954n</td>\n",
       "      <td>21.628962766, 41.2636898334</td>\n",
       "    </tr>\n",
       "    <tr>\n",
       "      <th>1</th>\n",
       "      <td>(1994)</td>\n",
       "      <td>Makkah</td>\n",
       "      <td>75349n</td>\n",
       "      <td>21.628962766, 41.2636898334</td>\n",
       "    </tr>\n",
       "  </tbody>\n",
       "</table>\n",
       "</div>"
      ],
      "text/plain": [
       "     Year Administritive Area Driving Liceses                 geo_point_2d\n",
       "0  (2012)              Makkah         143954n  21.628962766, 41.2636898334\n",
       "1  (1994)              Makkah          75349n  21.628962766, 41.2636898334"
      ]
     },
     "execution_count": 18,
     "metadata": {},
     "output_type": "execute_result"
    }
   ],
   "source": [
    "# Removing 1st columns from driving licenses dataset because it is similar to index\n",
    "dl_col = ['Year', 'Administritive Area', 'Driving Liceses', 'geo_point_2d']\n",
    "\n",
    "dl_df = dl_df[dl_col]\n",
    "dl_df.head(2)"
   ]
  },
  {
   "cell_type": "markdown",
   "metadata": {},
   "source": [
    "**Clean2:**\n",
    "- Converting data types `ta_df['Year', 'Value']` and `dl_df['Year', 'Driving Liceses']` to **int64** data type. "
   ]
  },
  {
   "cell_type": "code",
   "execution_count": 19,
   "metadata": {},
   "outputs": [],
   "source": [
    "def converting_data_type(df, cols):\n",
    "    \"\"\" \n",
    "    checking specific columns then replace specific characters from each value \n",
    "    in that column and modifies a data type to numeric type 'int64'  \n",
    "    then returns to new dataframe  \n",
    "    \"\"\"\n",
    "    \n",
    "    for col in cols:\n",
    "        if col == 'Year':\n",
    "            df[col] = df[col].apply(lambda s: s.replace('(', '').replace(')', ''))\n",
    "            df[col] = df[col].astype('int64')\n",
    "            \n",
    "        elif (col == 'Value') or (col == 'Driving Liceses'):\n",
    "            df[col] = df[col].apply(lambda s: s.replace('n', ''))\n",
    "            df[col] = df[col].astype('int64')\n",
    "    return df\n",
    "\n",
    "ta_df = converting_data_type(ta_df, ta_df.columns)\n",
    "dl_df = converting_data_type(dl_df, dl_df.columns)"
   ]
  },
  {
   "cell_type": "code",
   "execution_count": 20,
   "metadata": {},
   "outputs": [
    {
     "data": {
      "text/html": [
       "<div>\n",
       "<style scoped>\n",
       "    .dataframe tbody tr th:only-of-type {\n",
       "        vertical-align: middle;\n",
       "    }\n",
       "\n",
       "    .dataframe tbody tr th {\n",
       "        vertical-align: top;\n",
       "    }\n",
       "\n",
       "    .dataframe thead th {\n",
       "        text-align: right;\n",
       "    }\n",
       "</style>\n",
       "<table border=\"1\" class=\"dataframe\">\n",
       "  <thead>\n",
       "    <tr style=\"text-align: right;\">\n",
       "      <th></th>\n",
       "      <th>Year</th>\n",
       "      <th>Region</th>\n",
       "      <th>Indicator</th>\n",
       "      <th>Value</th>\n",
       "      <th>geo_point_2d</th>\n",
       "    </tr>\n",
       "  </thead>\n",
       "  <tbody>\n",
       "    <tr>\n",
       "      <th>0</th>\n",
       "      <td>2016</td>\n",
       "      <td>Makkah</td>\n",
       "      <td>No. of Casualties - Injured</td>\n",
       "      <td>12383</td>\n",
       "      <td>21.628962766, 41.2636898334</td>\n",
       "    </tr>\n",
       "    <tr>\n",
       "      <th>1</th>\n",
       "      <td>2016</td>\n",
       "      <td>Eastern Region</td>\n",
       "      <td>No. of Casualties - Dead</td>\n",
       "      <td>1113</td>\n",
       "      <td>23.2883307307, 50.1478302439</td>\n",
       "    </tr>\n",
       "  </tbody>\n",
       "</table>\n",
       "</div>"
      ],
      "text/plain": [
       "   Year          Region                    Indicator  Value  \\\n",
       "0  2016          Makkah  No. of Casualties - Injured  12383   \n",
       "1  2016  Eastern Region     No. of Casualties - Dead   1113   \n",
       "\n",
       "                   geo_point_2d  \n",
       "0   21.628962766, 41.2636898334  \n",
       "1  23.2883307307, 50.1478302439  "
      ]
     },
     "execution_count": 20,
     "metadata": {},
     "output_type": "execute_result"
    }
   ],
   "source": [
    "# check the first two rows in ta_df dataframe\n",
    "ta_df.head(2)"
   ]
  },
  {
   "cell_type": "code",
   "execution_count": 21,
   "metadata": {},
   "outputs": [
    {
     "data": {
      "text/html": [
       "<div>\n",
       "<style scoped>\n",
       "    .dataframe tbody tr th:only-of-type {\n",
       "        vertical-align: middle;\n",
       "    }\n",
       "\n",
       "    .dataframe tbody tr th {\n",
       "        vertical-align: top;\n",
       "    }\n",
       "\n",
       "    .dataframe thead th {\n",
       "        text-align: right;\n",
       "    }\n",
       "</style>\n",
       "<table border=\"1\" class=\"dataframe\">\n",
       "  <thead>\n",
       "    <tr style=\"text-align: right;\">\n",
       "      <th></th>\n",
       "      <th>Year</th>\n",
       "      <th>Administritive Area</th>\n",
       "      <th>Driving Liceses</th>\n",
       "      <th>geo_point_2d</th>\n",
       "    </tr>\n",
       "  </thead>\n",
       "  <tbody>\n",
       "    <tr>\n",
       "      <th>0</th>\n",
       "      <td>2012</td>\n",
       "      <td>Makkah</td>\n",
       "      <td>143954</td>\n",
       "      <td>21.628962766, 41.2636898334</td>\n",
       "    </tr>\n",
       "    <tr>\n",
       "      <th>1</th>\n",
       "      <td>1994</td>\n",
       "      <td>Makkah</td>\n",
       "      <td>75349</td>\n",
       "      <td>21.628962766, 41.2636898334</td>\n",
       "    </tr>\n",
       "  </tbody>\n",
       "</table>\n",
       "</div>"
      ],
      "text/plain": [
       "   Year Administritive Area  Driving Liceses                 geo_point_2d\n",
       "0  2012              Makkah           143954  21.628962766, 41.2636898334\n",
       "1  1994              Makkah            75349  21.628962766, 41.2636898334"
      ]
     },
     "execution_count": 21,
     "metadata": {},
     "output_type": "execute_result"
    }
   ],
   "source": [
    "# check the first two rows in dl_df dataframe\n",
    "dl_df.head(2)"
   ]
  },
  {
   "cell_type": "code",
   "execution_count": 22,
   "metadata": {},
   "outputs": [
    {
     "data": {
      "text/plain": [
       "Year             int64\n",
       "Region          object\n",
       "Indicator       object\n",
       "Value            int64\n",
       "geo_point_2d    object\n",
       "dtype: object"
      ]
     },
     "execution_count": 22,
     "metadata": {},
     "output_type": "execute_result"
    }
   ],
   "source": [
    "# check data types of all columns in ta_df dataframe\n",
    "ta_df.dtypes"
   ]
  },
  {
   "cell_type": "code",
   "execution_count": 23,
   "metadata": {},
   "outputs": [
    {
     "data": {
      "text/plain": [
       "Year                    int64\n",
       "Administritive Area    object\n",
       "Driving Liceses         int64\n",
       "geo_point_2d           object\n",
       "dtype: object"
      ]
     },
     "execution_count": 23,
     "metadata": {},
     "output_type": "execute_result"
    }
   ],
   "source": [
    "# check data types of all columns in dl_df dataframe\n",
    "dl_df.dtypes"
   ]
  },
  {
   "cell_type": "markdown",
   "metadata": {},
   "source": [
    "**Clean3:**"
   ]
  },
  {
   "cell_type": "markdown",
   "metadata": {},
   "source": [
    "- Make new columns `x` and `y` using `geo_point_2d`"
   ]
  },
  {
   "cell_type": "code",
   "execution_count": 24,
   "metadata": {},
   "outputs": [],
   "source": [
    "#code\n",
    "def seperate_column(df, col):\n",
    "    \n",
    "    df['geo_point_2d'] = df['geo_point_2d'].replace({np.nan: 'np.nan, np.nan'})\n",
    "    df['geo_point_2d'] = df['geo_point_2d'].apply(lambda s: tuple(s.split(',')))\n",
    "    x, y = [], []\n",
    "    for i in range(len(df['geo_point_2d'])):\n",
    "        try:\n",
    "            x.append(float(df['geo_point_2d'][i][0]))\n",
    "            y.append(float(df['geo_point_2d'][i][1]))\n",
    "        except:\n",
    "            x.append(np.nan)\n",
    "            y.append(np.nan)\n",
    "    df['x'], df['y'] = pd.Series(x), pd.Series(y)\n",
    "    df.drop(columns='geo_point_2d', inplace=True)\n",
    "    return df\n",
    "\n",
    "ta_df = seperate_column(ta_df, 'geo_point_2d')\n",
    "dl_df = seperate_column(dl_df, 'geo_point_2d')"
   ]
  },
  {
   "cell_type": "code",
   "execution_count": 28,
   "metadata": {
    "scrolled": true
   },
   "outputs": [
    {
     "data": {
      "text/html": [
       "<div>\n",
       "<style scoped>\n",
       "    .dataframe tbody tr th:only-of-type {\n",
       "        vertical-align: middle;\n",
       "    }\n",
       "\n",
       "    .dataframe tbody tr th {\n",
       "        vertical-align: top;\n",
       "    }\n",
       "\n",
       "    .dataframe thead th {\n",
       "        text-align: right;\n",
       "    }\n",
       "</style>\n",
       "<table border=\"1\" class=\"dataframe\">\n",
       "  <thead>\n",
       "    <tr style=\"text-align: right;\">\n",
       "      <th></th>\n",
       "      <th>Year</th>\n",
       "      <th>Region</th>\n",
       "      <th>Indicator</th>\n",
       "      <th>Value</th>\n",
       "      <th>x</th>\n",
       "      <th>y</th>\n",
       "    </tr>\n",
       "  </thead>\n",
       "  <tbody>\n",
       "    <tr>\n",
       "      <th>0</th>\n",
       "      <td>2016</td>\n",
       "      <td>Makkah</td>\n",
       "      <td>No. of Casualties - Injured</td>\n",
       "      <td>12383</td>\n",
       "      <td>21.628963</td>\n",
       "      <td>41.26369</td>\n",
       "    </tr>\n",
       "    <tr>\n",
       "      <th>1</th>\n",
       "      <td>2016</td>\n",
       "      <td>Eastern Region</td>\n",
       "      <td>No. of Casualties - Dead</td>\n",
       "      <td>1113</td>\n",
       "      <td>23.288331</td>\n",
       "      <td>50.14783</td>\n",
       "    </tr>\n",
       "  </tbody>\n",
       "</table>\n",
       "</div>"
      ],
      "text/plain": [
       "   Year          Region                    Indicator  Value          x  \\\n",
       "0  2016          Makkah  No. of Casualties - Injured  12383  21.628963   \n",
       "1  2016  Eastern Region     No. of Casualties - Dead   1113  23.288331   \n",
       "\n",
       "          y  \n",
       "0  41.26369  \n",
       "1  50.14783  "
      ]
     },
     "execution_count": 28,
     "metadata": {},
     "output_type": "execute_result"
    }
   ],
   "source": [
    "# check the first two rows of traffic accidents dataframe\n",
    "ta_df.head(2)"
   ]
  },
  {
   "cell_type": "code",
   "execution_count": 29,
   "metadata": {},
   "outputs": [
    {
     "data": {
      "text/html": [
       "<div>\n",
       "<style scoped>\n",
       "    .dataframe tbody tr th:only-of-type {\n",
       "        vertical-align: middle;\n",
       "    }\n",
       "\n",
       "    .dataframe tbody tr th {\n",
       "        vertical-align: top;\n",
       "    }\n",
       "\n",
       "    .dataframe thead th {\n",
       "        text-align: right;\n",
       "    }\n",
       "</style>\n",
       "<table border=\"1\" class=\"dataframe\">\n",
       "  <thead>\n",
       "    <tr style=\"text-align: right;\">\n",
       "      <th></th>\n",
       "      <th>Year</th>\n",
       "      <th>Administritive Area</th>\n",
       "      <th>Driving Liceses</th>\n",
       "      <th>x</th>\n",
       "      <th>y</th>\n",
       "    </tr>\n",
       "  </thead>\n",
       "  <tbody>\n",
       "    <tr>\n",
       "      <th>0</th>\n",
       "      <td>2012</td>\n",
       "      <td>Makkah</td>\n",
       "      <td>143954</td>\n",
       "      <td>21.628963</td>\n",
       "      <td>41.26369</td>\n",
       "    </tr>\n",
       "    <tr>\n",
       "      <th>1</th>\n",
       "      <td>1994</td>\n",
       "      <td>Makkah</td>\n",
       "      <td>75349</td>\n",
       "      <td>21.628963</td>\n",
       "      <td>41.26369</td>\n",
       "    </tr>\n",
       "  </tbody>\n",
       "</table>\n",
       "</div>"
      ],
      "text/plain": [
       "   Year Administritive Area  Driving Liceses          x         y\n",
       "0  2012              Makkah           143954  21.628963  41.26369\n",
       "1  1994              Makkah            75349  21.628963  41.26369"
      ]
     },
     "execution_count": 29,
     "metadata": {},
     "output_type": "execute_result"
    }
   ],
   "source": [
    "# check the first two rows of driving leceineces dataframe\n",
    "dl_df.head(2)"
   ]
  },
  {
   "cell_type": "markdown",
   "metadata": {},
   "source": [
    "**Clean3:**"
   ]
  },
  {
   "cell_type": "markdown",
   "metadata": {},
   "source": [
    "- Fix any individual values preventing other columns from being the appropriate type."
   ]
  },
  {
   "cell_type": "markdown",
   "metadata": {},
   "source": [
    "Let us see the two column `ta_df['Region']` and `dl_df['Admistritive_Area']`, they refer to group of cities some of them the same name and others with different name. The figure below illustrates the common and uncommon values for each one."
   ]
  },
  {
   "attachments": {
    "A0911D46-D0FB-412E-8193-F01F469850F7.jpeg": {
     "image/jpeg": "[encoded data removed]"
    }
   },
   "cell_type": "markdown",
   "metadata": {},
   "source": [
    "![A0911D46-D0FB-412E-8193-F01F469850F7.jpeg](attachment:A0911D46-D0FB-412E-8193-F01F469850F7.jpeg)"
   ]
  },
  {
   "cell_type": "code",
   "execution_count": 30,
   "metadata": {},
   "outputs": [
    {
     "name": "stdout",
     "output_type": "stream",
     "text": [
      "10 common regions between traffic accidents and driving liceneces dataframes:    \n",
      "{'Northern Boarder', 'Jazan', 'Makkah', 'Total', 'Najran', 'Hail', 'Al-Jouf', 'Madinah', 'Riyadh', 'Tabouk'}\n"
     ]
    }
   ],
   "source": [
    "#code\n",
    "# all regions in traffic accidents dataframe\n",
    "region_set = set(ta_df['Region'].unique().tolist())\n",
    "\n",
    "# all regions in driving leciences dataframe\n",
    "adminstritive_area_set = set(dl_df['Administritive Area'].unique().tolist())\n",
    "\n",
    "# all common regions between two dataframes\n",
    "common_region = region_set.intersection(adminstritive_area_set)\n",
    "\n",
    "print(f'{len(common_region)} common regions between traffic accidents and driving liceneces dataframes:\\\n",
    "    \\n{common_region}')"
   ]
  },
  {
   "cell_type": "code",
   "execution_count": 31,
   "metadata": {},
   "outputs": [
    {
     "name": "stdout",
     "output_type": "stream",
     "text": [
      "4 regions in traffic accidents with different spelling or name:    \n",
      " {'Asir', 'Al-Baaha', 'Qassim', 'Eastern Region'} \n",
      "\n",
      "4 regions in driving leciences with different spelling or name:    \n",
      " {'Al-Qaseem', 'Assir', 'Eastern', 'Al-Baha'}\n"
     ]
    }
   ],
   "source": [
    "# all regions in traffic accidents dataframe but not in driving liceses dataframe\n",
    "different_region = region_set.difference(adminstritive_area_set)\n",
    "\n",
    "print(f'{len(different_region)} regions in traffic accidents with different spelling or name: \\\n",
    "   \\n {different_region} \\n')\n",
    "\n",
    "print(f'{len(different_region)} regions in driving leciences with different spelling or name: \\\n",
    "   \\n {adminstritive_area_set.difference(region_set)}')"
   ]
  },
  {
   "cell_type": "code",
   "execution_count": 32,
   "metadata": {},
   "outputs": [
    {
     "name": "stdout",
     "output_type": "stream",
     "text": [
      "14 common regions between traffic accidents and driving liceneces dataframes:    \n",
      "{'Northern Boarder', 'Jazan', 'Makkah', 'Assir', 'Al-Baha', 'Total', 'Najran', 'Hail', 'Eastern Region', 'Al-Jouf', 'Al-Qaseem', 'Riyadh', 'Madinah', 'Tabouk'}\n"
     ]
    }
   ],
   "source": [
    "ta_df['Region'] = ta_df['Region'].replace({\n",
    "                        'Asir': 'Assir',\n",
    "                        'Qassim': 'Al-Qaseem',\n",
    "                        'Al-Baaha': 'Al-Baha'},)\n",
    "\n",
    "dl_df['Administritive Area'] = dl_df['Administritive Area'].replace({\n",
    "                                    'Eastern': 'Eastern Region'})\n",
    "\n",
    "region_set = set(ta_df['Region'].unique().tolist())\n",
    "\n",
    "adminstritive_area_set = set(dl_df['Administritive Area'].unique().tolist())\n",
    "\n",
    "common_region_updated = region_set.intersection(adminstritive_area_set)\n",
    "\n",
    "print(f'{len(common_region_updated)} common regions between traffic accidents and driving liceneces dataframes:\\\n",
    "    \\n{common_region_updated}')\n"
   ]
  },
  {
   "cell_type": "code",
   "execution_count": 33,
   "metadata": {},
   "outputs": [
    {
     "name": "stdout",
     "output_type": "stream",
     "text": [
      "13 common values between traffic accidents and driving liceneces dataframes:    \n",
      "{27.90165499, 17.2072313962, 18.4511003068, 19.1387847401, 20.1484058503, 21.628962766, 23.2883307307, 23.0814341634, 24.927534539, 26.1967063704, 27.400845724, 29.9677445762, 30.197074783}\n",
      "\n",
      "13 common values between traffic accidents and driving liceneces dataframes:    \n",
      "{37.2598581394, 39.5570371172, 39.4918237173, 41.2636898334, 42.941470036, 43.3429998455, 41.4406960508, 41.8171186952, 42.6525807422, 46.8688495726, 41.4665484892, 45.5857512766, 50.1478302439}\n"
     ]
    }
   ],
   "source": [
    "x_ta_set, y_ta_set= set(ta_df['x'].unique().tolist()), set(ta_df['y'].unique().tolist())\n",
    "x_dl_set, y_dl_set= set(dl_df['x'].unique().tolist()), set(dl_df['y'].unique().tolist())\n",
    "\n",
    "common_x_set = x_ta_set.intersection(x_dl_set)\n",
    "common_y_set = y_ta_set.intersection(y_dl_set)\n",
    "\n",
    "\n",
    "print(f'{len(common_x_set)} common values between traffic accidents and driving liceneces dataframes:\\\n",
    "    \\n{common_x_set}')\n",
    "print(f'\\n{len(common_y_set)} common values between traffic accidents and driving liceneces dataframes:\\\n",
    "    \\n{common_y_set}')"
   ]
  },
  {
   "cell_type": "code",
   "execution_count": 34,
   "metadata": {},
   "outputs": [],
   "source": [
    "ta_df['Indicator'].replace({\n",
    "    'No. of Casualties - Injured':'injures_total',\n",
    "    'No. of Casualties - Dead': 'deaths_total',\n",
    "    'No. of Accidents': 'accidents_total'}, inplace=True)"
   ]
  },
  {
   "cell_type": "markdown",
   "metadata": {},
   "source": [
    "We renamed all values of region column in each dataframe "
   ]
  },
  {
   "cell_type": "markdown",
   "metadata": {},
   "source": [
    "- Finish your data modifications by making sure the columns are now typed appropriately."
   ]
  },
  {
   "cell_type": "code",
   "execution_count": 35,
   "metadata": {},
   "outputs": [
    {
     "data": {
      "text/html": [
       "<div>\n",
       "<style scoped>\n",
       "    .dataframe tbody tr th:only-of-type {\n",
       "        vertical-align: middle;\n",
       "    }\n",
       "\n",
       "    .dataframe tbody tr th {\n",
       "        vertical-align: top;\n",
       "    }\n",
       "\n",
       "    .dataframe thead th {\n",
       "        text-align: right;\n",
       "    }\n",
       "</style>\n",
       "<table border=\"1\" class=\"dataframe\">\n",
       "  <thead>\n",
       "    <tr style=\"text-align: right;\">\n",
       "      <th></th>\n",
       "      <th>Year</th>\n",
       "      <th>Region</th>\n",
       "      <th>Indicator</th>\n",
       "      <th>Value</th>\n",
       "      <th>x</th>\n",
       "      <th>y</th>\n",
       "    </tr>\n",
       "  </thead>\n",
       "  <tbody>\n",
       "    <tr>\n",
       "      <th>0</th>\n",
       "      <td>2016</td>\n",
       "      <td>Makkah</td>\n",
       "      <td>injures_total</td>\n",
       "      <td>12383</td>\n",
       "      <td>21.628963</td>\n",
       "      <td>41.26369</td>\n",
       "    </tr>\n",
       "    <tr>\n",
       "      <th>1</th>\n",
       "      <td>2016</td>\n",
       "      <td>Eastern Region</td>\n",
       "      <td>deaths_total</td>\n",
       "      <td>1113</td>\n",
       "      <td>23.288331</td>\n",
       "      <td>50.14783</td>\n",
       "    </tr>\n",
       "  </tbody>\n",
       "</table>\n",
       "</div>"
      ],
      "text/plain": [
       "   Year          Region      Indicator  Value          x         y\n",
       "0  2016          Makkah  injures_total  12383  21.628963  41.26369\n",
       "1  2016  Eastern Region   deaths_total   1113  23.288331  50.14783"
      ]
     },
     "execution_count": 35,
     "metadata": {},
     "output_type": "execute_result"
    }
   ],
   "source": [
    "#Code:\n",
    "# check the first two rows of traffic accidents dataframe\n",
    "ta_df.head(2)"
   ]
  },
  {
   "cell_type": "code",
   "execution_count": 36,
   "metadata": {},
   "outputs": [
    {
     "data": {
      "text/html": [
       "<div>\n",
       "<style scoped>\n",
       "    .dataframe tbody tr th:only-of-type {\n",
       "        vertical-align: middle;\n",
       "    }\n",
       "\n",
       "    .dataframe tbody tr th {\n",
       "        vertical-align: top;\n",
       "    }\n",
       "\n",
       "    .dataframe thead th {\n",
       "        text-align: right;\n",
       "    }\n",
       "</style>\n",
       "<table border=\"1\" class=\"dataframe\">\n",
       "  <thead>\n",
       "    <tr style=\"text-align: right;\">\n",
       "      <th></th>\n",
       "      <th>Year</th>\n",
       "      <th>Administritive Area</th>\n",
       "      <th>Driving Liceses</th>\n",
       "      <th>x</th>\n",
       "      <th>y</th>\n",
       "    </tr>\n",
       "  </thead>\n",
       "  <tbody>\n",
       "    <tr>\n",
       "      <th>0</th>\n",
       "      <td>2012</td>\n",
       "      <td>Makkah</td>\n",
       "      <td>143954</td>\n",
       "      <td>21.628963</td>\n",
       "      <td>41.26369</td>\n",
       "    </tr>\n",
       "    <tr>\n",
       "      <th>1</th>\n",
       "      <td>1994</td>\n",
       "      <td>Makkah</td>\n",
       "      <td>75349</td>\n",
       "      <td>21.628963</td>\n",
       "      <td>41.26369</td>\n",
       "    </tr>\n",
       "  </tbody>\n",
       "</table>\n",
       "</div>"
      ],
      "text/plain": [
       "   Year Administritive Area  Driving Liceses          x         y\n",
       "0  2012              Makkah           143954  21.628963  41.26369\n",
       "1  1994              Makkah            75349  21.628963  41.26369"
      ]
     },
     "execution_count": 36,
     "metadata": {},
     "output_type": "execute_result"
    }
   ],
   "source": [
    "#Code:\n",
    "# check the first two rows of driving accidents dataframe\n",
    "dl_df.head(2)"
   ]
  },
  {
   "cell_type": "markdown",
   "metadata": {},
   "source": [
    "- Display the data types again to confirm they are correct."
   ]
  },
  {
   "cell_type": "code",
   "execution_count": 37,
   "metadata": {},
   "outputs": [
    {
     "data": {
      "text/plain": [
       "Year           int64\n",
       "Region        object\n",
       "Indicator     object\n",
       "Value          int64\n",
       "x            float64\n",
       "y            float64\n",
       "dtype: object"
      ]
     },
     "execution_count": 37,
     "metadata": {},
     "output_type": "execute_result"
    }
   ],
   "source": [
    "#Code:\n",
    "# check data types of traffic accidents dataframe\n",
    "ta_df.dtypes"
   ]
  },
  {
   "cell_type": "code",
   "execution_count": 38,
   "metadata": {},
   "outputs": [
    {
     "data": {
      "text/plain": [
       "Year                     int64\n",
       "Administritive Area     object\n",
       "Driving Liceses          int64\n",
       "x                      float64\n",
       "y                      float64\n",
       "dtype: object"
      ]
     },
     "execution_count": 38,
     "metadata": {},
     "output_type": "execute_result"
    }
   ],
   "source": [
    "# check data types of driving liceses dataframe\n",
    "dl_df.dtypes"
   ]
  },
  {
   "cell_type": "markdown",
   "metadata": {},
   "source": [
    "#### 7. Rename columns\n",
    "Change the names of the columns to more expressive names so that you can tell the difference the Driving Licenses  columns and the & Traffic Accidents columns. Your solution should map all column names being changed at once (no repeated singular name-changes). **We will be combining these two datasets, and so you should name columns in an appropriate way**.\n",
    "\n",
    "**Guidelines**:\n",
    "- Column names should be all lowercase (you will thank yourself when you start pushing data to SQL later in the course)\n",
    "- Column names should not contain spaces (underscores will suffice--this allows for using the `df.column_name` method to access columns in addition to `df['column_name']`.\n",
    "- Column names should be unique and informative (the only feature that we actually share between dataframes is the state).\n",
    "- Please also fix any typos you see in the column names."
   ]
  },
  {
   "cell_type": "code",
   "execution_count": 39,
   "metadata": {},
   "outputs": [],
   "source": [
    "#code\n",
    "ta_df.rename(columns={\n",
    "    'Year': 'year',\n",
    "    'Region': 'region',\n",
    "    'Indicator': 'casualty_status',\n",
    "    'Value': 'casualties_total',\n",
    "    'x': 'x',\n",
    "    'y': 'y'}, inplace=True)\n",
    "\n",
    "# rename driving liceses columns\n",
    "dl_df.rename(columns={\n",
    "    'Year': 'year',              \n",
    "    'Administritive Area':'region',    \n",
    "    'Driving Liceses': 'driving_license_total',        \n",
    "    'x': 'x',                      \n",
    "    'y': 'y'}, inplace=True)\n"
   ]
  },
  {
   "cell_type": "code",
   "execution_count": 40,
   "metadata": {
    "scrolled": true
   },
   "outputs": [
    {
     "data": {
      "text/html": [
       "<div>\n",
       "<style scoped>\n",
       "    .dataframe tbody tr th:only-of-type {\n",
       "        vertical-align: middle;\n",
       "    }\n",
       "\n",
       "    .dataframe tbody tr th {\n",
       "        vertical-align: top;\n",
       "    }\n",
       "\n",
       "    .dataframe thead th {\n",
       "        text-align: right;\n",
       "    }\n",
       "</style>\n",
       "<table border=\"1\" class=\"dataframe\">\n",
       "  <thead>\n",
       "    <tr style=\"text-align: right;\">\n",
       "      <th></th>\n",
       "      <th>year</th>\n",
       "      <th>region</th>\n",
       "      <th>casualty_status</th>\n",
       "      <th>casualties_total</th>\n",
       "      <th>x</th>\n",
       "      <th>y</th>\n",
       "    </tr>\n",
       "  </thead>\n",
       "  <tbody>\n",
       "    <tr>\n",
       "      <th>0</th>\n",
       "      <td>2016</td>\n",
       "      <td>Makkah</td>\n",
       "      <td>injures_total</td>\n",
       "      <td>12383</td>\n",
       "      <td>21.628963</td>\n",
       "      <td>41.26369</td>\n",
       "    </tr>\n",
       "    <tr>\n",
       "      <th>1</th>\n",
       "      <td>2016</td>\n",
       "      <td>Eastern Region</td>\n",
       "      <td>deaths_total</td>\n",
       "      <td>1113</td>\n",
       "      <td>23.288331</td>\n",
       "      <td>50.14783</td>\n",
       "    </tr>\n",
       "  </tbody>\n",
       "</table>\n",
       "</div>"
      ],
      "text/plain": [
       "   year          region casualty_status  casualties_total          x         y\n",
       "0  2016          Makkah   injures_total             12383  21.628963  41.26369\n",
       "1  2016  Eastern Region    deaths_total              1113  23.288331  50.14783"
      ]
     },
     "execution_count": 40,
     "metadata": {},
     "output_type": "execute_result"
    }
   ],
   "source": [
    "# check the first two rows of traffic accidents dataframe\n",
    "ta_df.head(2)"
   ]
  },
  {
   "cell_type": "code",
   "execution_count": 41,
   "metadata": {},
   "outputs": [
    {
     "data": {
      "text/html": [
       "<div>\n",
       "<style scoped>\n",
       "    .dataframe tbody tr th:only-of-type {\n",
       "        vertical-align: middle;\n",
       "    }\n",
       "\n",
       "    .dataframe tbody tr th {\n",
       "        vertical-align: top;\n",
       "    }\n",
       "\n",
       "    .dataframe thead th {\n",
       "        text-align: right;\n",
       "    }\n",
       "</style>\n",
       "<table border=\"1\" class=\"dataframe\">\n",
       "  <thead>\n",
       "    <tr style=\"text-align: right;\">\n",
       "      <th></th>\n",
       "      <th>year</th>\n",
       "      <th>region</th>\n",
       "      <th>driving_license_total</th>\n",
       "      <th>x</th>\n",
       "      <th>y</th>\n",
       "    </tr>\n",
       "  </thead>\n",
       "  <tbody>\n",
       "    <tr>\n",
       "      <th>0</th>\n",
       "      <td>2012</td>\n",
       "      <td>Makkah</td>\n",
       "      <td>143954</td>\n",
       "      <td>21.628963</td>\n",
       "      <td>41.26369</td>\n",
       "    </tr>\n",
       "    <tr>\n",
       "      <th>1</th>\n",
       "      <td>1994</td>\n",
       "      <td>Makkah</td>\n",
       "      <td>75349</td>\n",
       "      <td>21.628963</td>\n",
       "      <td>41.26369</td>\n",
       "    </tr>\n",
       "  </tbody>\n",
       "</table>\n",
       "</div>"
      ],
      "text/plain": [
       "   year  region  driving_license_total          x         y\n",
       "0  2012  Makkah                 143954  21.628963  41.26369\n",
       "1  1994  Makkah                  75349  21.628963  41.26369"
      ]
     },
     "execution_count": 41,
     "metadata": {},
     "output_type": "execute_result"
    }
   ],
   "source": [
    "# check the first two row of driving liceses dataframe\n",
    "dl_df.head(2)"
   ]
  },
  {
   "cell_type": "markdown",
   "metadata": {},
   "source": [
    "#### 8. Create a data dictionary\n",
    "\n",
    "Now that we've fixed our data, and given it appropriate names, let's create a [data dictionary](http://library.ucmerced.edu/node/10249). \n",
    "\n",
    "A data dictionary provides a quick overview of features/variables/columns, alongside data types and descriptions. The more descriptive you can be, the more useful this document is.\n",
    "\n",
    "Example of a Fictional Data Dictionary Entry: \n",
    "\n",
    "|Feature|Type|Dataset|Description|\n",
    "|---|---|---|---|\n",
    "|**county_pop**|*integer*|2010 census|The population of the county (units in thousands, where 2.5 represents 2500 people).| \n",
    "|**per_poverty**|*float*|2010 census|The percent of the county over the age of 18 living below the 200% of official US poverty rate (units percent to two decimal places 98.10 means 98.1%)|\n",
    "\n",
    "[Here's a quick link to a short guide for formatting markdown in Jupyter notebooks](https://jupyter-notebook.readthedocs.io/en/stable/examples/Notebook/Working%20With%20Markdown%20Cells.html).\n",
    "\n",
    "Provided is the skeleton for formatting a markdown table, with columns headers that will help you create a data dictionary to quickly summarize your data, as well as some examples. **This would be a great thing to copy and paste into your custom README for this project.**"
   ]
  },
  {
   "cell_type": "markdown",
   "metadata": {},
   "source": [
    "|Feature|Type|Dataset|Description|\n",
    "|---|---|---|---|\n",
    "|year|int|Traffic_Accidents|Accident occuring year|\n",
    "|region|object|Traffic_Accidents|Accident occuring region|\n",
    "|casualty_status|object|Traffic_Accidents|casualties_status {Casualties - Injured, Casualties - Dead, Accidents }|\n",
    "|casualties_total|int|Traffic_Accidents|casualties total per year|\n",
    "|x|float|Traffic_Accidents|Latitude of region coordinate|\n",
    "|y|float|Traffic_Accidents|Longitude of region coordinate|\n",
    "|year|int|Driving_Licenses|Driving License issuance year|\n",
    "|region|object|Driving_Licenses|Driving License issuance region|\n",
    "|driving_license_total|int|Driving_Licenses|Driving licenses issuance total per year|\n",
    "|x|float|Driving_Licenses|Latitude of region coordinate|\n",
    "|y|float|Driving_Licenses|Longitude of region coordinate|\n",
    "\n",
    "\n"
   ]
  },
  {
   "cell_type": "markdown",
   "metadata": {},
   "source": [
    "#### 9. Drop unnecessary rows\n",
    "\n",
    "This study concerns accident and license in regions/area. Please do the followings:\n",
    "\n",
    "0. Which rows are not associated with regions?\n",
    "1. Confirm the numbers of all regions add up to total.\n",
    "2. Remove the rows that are not associated with regions"
   ]
  },
  {
   "cell_type": "code",
   "execution_count": 42,
   "metadata": {},
   "outputs": [],
   "source": [
    "#code\n",
    "# Total is not associated with regions in all dataframes\n",
    "# so we should remove all rows with total values \n",
    "\n",
    "def remove_total(df, col):\n",
    "    \"\"\"\n",
    "    refers to new dataframe without missing values \n",
    "    as well as with unassociated vlaues with regions\n",
    "    \"\"\"\n",
    "    \n",
    "    df.dropna(axis=0, inplace=True)\n",
    "    return df\n",
    "\n",
    "ta_df = remove_total(ta_df, 'region')\n",
    "dl_df = remove_total(dl_df, 'region')"
   ]
  },
  {
   "cell_type": "code",
   "execution_count": 43,
   "metadata": {},
   "outputs": [
    {
     "data": {
      "text/plain": [
       "(78, 6)"
      ]
     },
     "execution_count": 43,
     "metadata": {},
     "output_type": "execute_result"
    }
   ],
   "source": [
    "# check the shape of all dataframes\n",
    "ta_df.shape"
   ]
  },
  {
   "cell_type": "code",
   "execution_count": 44,
   "metadata": {},
   "outputs": [
    {
     "data": {
      "text/plain": [
       "(325, 5)"
      ]
     },
     "execution_count": 44,
     "metadata": {},
     "output_type": "execute_result"
    }
   ],
   "source": [
    "dl_df.shape"
   ]
  },
  {
   "cell_type": "markdown",
   "metadata": {},
   "source": [
    "#### 10a. Data formats\n",
    "Is the License data in long or wide format? How about the Accident data? And why?"
   ]
  },
  {
   "cell_type": "markdown",
   "metadata": {},
   "source": [
    "License data `dl_df` and Accident data `ta_df` are in long format because in each of them there are **13 regions** for each year as well as there are **3 casualties status** for each region in Accident data. "
   ]
  },
  {
   "cell_type": "markdown",
   "metadata": {},
   "source": [
    "#### 10b. Changing formats\n",
    "Which format would work best for both dataframes? Transform the datasets to the same format before merging in the next task."
   ]
  },
  {
   "cell_type": "code",
   "execution_count": 45,
   "metadata": {},
   "outputs": [
    {
     "data": {
      "text/html": [
       "<div>\n",
       "<style scoped>\n",
       "    .dataframe tbody tr th:only-of-type {\n",
       "        vertical-align: middle;\n",
       "    }\n",
       "\n",
       "    .dataframe tbody tr th {\n",
       "        vertical-align: top;\n",
       "    }\n",
       "\n",
       "    .dataframe thead th {\n",
       "        text-align: right;\n",
       "    }\n",
       "</style>\n",
       "<table border=\"1\" class=\"dataframe\">\n",
       "  <thead>\n",
       "    <tr style=\"text-align: right;\">\n",
       "      <th></th>\n",
       "      <th></th>\n",
       "      <th></th>\n",
       "      <th>casualty_status</th>\n",
       "      <th>accidents_total</th>\n",
       "      <th>deaths_total</th>\n",
       "      <th>injures_total</th>\n",
       "    </tr>\n",
       "    <tr>\n",
       "      <th>year</th>\n",
       "      <th>region</th>\n",
       "      <th>x</th>\n",
       "      <th>y</th>\n",
       "      <th></th>\n",
       "      <th></th>\n",
       "      <th></th>\n",
       "    </tr>\n",
       "  </thead>\n",
       "  <tbody>\n",
       "    <tr>\n",
       "      <th rowspan=\"13\" valign=\"top\">2016</th>\n",
       "      <th>Al-Baha</th>\n",
       "      <th>20.148406</th>\n",
       "      <th>41.466548</th>\n",
       "      <td>3618</td>\n",
       "      <td>185</td>\n",
       "      <td>1227</td>\n",
       "    </tr>\n",
       "    <tr>\n",
       "      <th>Al-Jouf</th>\n",
       "      <th>29.967745</th>\n",
       "      <th>39.557037</th>\n",
       "      <td>10212</td>\n",
       "      <td>245</td>\n",
       "      <td>920</td>\n",
       "    </tr>\n",
       "    <tr>\n",
       "      <th>Al-Qaseem</th>\n",
       "      <th>26.196706</th>\n",
       "      <th>43.343000</th>\n",
       "      <td>25664</td>\n",
       "      <td>397</td>\n",
       "      <td>1513</td>\n",
       "    </tr>\n",
       "    <tr>\n",
       "      <th>Assir</th>\n",
       "      <th>19.138785</th>\n",
       "      <th>42.941470</th>\n",
       "      <td>32684</td>\n",
       "      <td>983</td>\n",
       "      <td>2541</td>\n",
       "    </tr>\n",
       "    <tr>\n",
       "      <th>Eastern Region</th>\n",
       "      <th>23.288331</th>\n",
       "      <th>50.147830</th>\n",
       "      <td>101619</td>\n",
       "      <td>1113</td>\n",
       "      <td>4893</td>\n",
       "    </tr>\n",
       "    <tr>\n",
       "      <th>Hail</th>\n",
       "      <th>27.400846</th>\n",
       "      <th>41.440696</th>\n",
       "      <td>10199</td>\n",
       "      <td>299</td>\n",
       "      <td>932</td>\n",
       "    </tr>\n",
       "    <tr>\n",
       "      <th>Jazan</th>\n",
       "      <th>17.207231</th>\n",
       "      <th>42.652581</th>\n",
       "      <td>25873</td>\n",
       "      <td>514</td>\n",
       "      <td>2259</td>\n",
       "    </tr>\n",
       "    <tr>\n",
       "      <th>Madinah</th>\n",
       "      <th>24.927535</th>\n",
       "      <th>39.491824</th>\n",
       "      <td>14475</td>\n",
       "      <td>822</td>\n",
       "      <td>4184</td>\n",
       "    </tr>\n",
       "    <tr>\n",
       "      <th>Makkah</th>\n",
       "      <th>21.628963</th>\n",
       "      <th>41.263690</th>\n",
       "      <td>134838</td>\n",
       "      <td>2243</td>\n",
       "      <td>12383</td>\n",
       "    </tr>\n",
       "    <tr>\n",
       "      <th>Najran</th>\n",
       "      <th>18.451100</th>\n",
       "      <th>46.868850</th>\n",
       "      <td>3235</td>\n",
       "      <td>173</td>\n",
       "      <td>706</td>\n",
       "    </tr>\n",
       "    <tr>\n",
       "      <th>Northern Boarder</th>\n",
       "      <th>30.197075</th>\n",
       "      <th>41.817119</th>\n",
       "      <td>13196</td>\n",
       "      <td>193</td>\n",
       "      <td>631</td>\n",
       "    </tr>\n",
       "    <tr>\n",
       "      <th>Riyadh</th>\n",
       "      <th>23.081434</th>\n",
       "      <th>45.585751</th>\n",
       "      <td>141736</td>\n",
       "      <td>1430</td>\n",
       "      <td>4207</td>\n",
       "    </tr>\n",
       "    <tr>\n",
       "      <th>Tabouk</th>\n",
       "      <th>27.901655</th>\n",
       "      <th>37.259858</th>\n",
       "      <td>16031</td>\n",
       "      <td>434</td>\n",
       "      <td>1724</td>\n",
       "    </tr>\n",
       "    <tr>\n",
       "      <th rowspan=\"13\" valign=\"top\">2017</th>\n",
       "      <th>Al-Baha</th>\n",
       "      <th>20.148406</th>\n",
       "      <th>41.466548</th>\n",
       "      <td>1414</td>\n",
       "      <td>134</td>\n",
       "      <td>1007</td>\n",
       "    </tr>\n",
       "    <tr>\n",
       "      <th>Al-Jouf</th>\n",
       "      <th>29.967745</th>\n",
       "      <th>39.557037</th>\n",
       "      <td>10469</td>\n",
       "      <td>240</td>\n",
       "      <td>862</td>\n",
       "    </tr>\n",
       "    <tr>\n",
       "      <th>Al-Qaseem</th>\n",
       "      <th>26.196706</th>\n",
       "      <th>43.343000</th>\n",
       "      <td>22405</td>\n",
       "      <td>319</td>\n",
       "      <td>1446</td>\n",
       "    </tr>\n",
       "    <tr>\n",
       "      <th>Assir</th>\n",
       "      <th>19.138785</th>\n",
       "      <th>42.941470</th>\n",
       "      <td>25245</td>\n",
       "      <td>828</td>\n",
       "      <td>2368</td>\n",
       "    </tr>\n",
       "    <tr>\n",
       "      <th>Eastern Region</th>\n",
       "      <th>23.288331</th>\n",
       "      <th>50.147830</th>\n",
       "      <td>81433</td>\n",
       "      <td>963</td>\n",
       "      <td>4073</td>\n",
       "    </tr>\n",
       "    <tr>\n",
       "      <th>Hail</th>\n",
       "      <th>27.400846</th>\n",
       "      <th>41.440696</th>\n",
       "      <td>9379</td>\n",
       "      <td>265</td>\n",
       "      <td>773</td>\n",
       "    </tr>\n",
       "    <tr>\n",
       "      <th>Jazan</th>\n",
       "      <th>17.207231</th>\n",
       "      <th>42.652581</th>\n",
       "      <td>22161</td>\n",
       "      <td>466</td>\n",
       "      <td>2207</td>\n",
       "    </tr>\n",
       "    <tr>\n",
       "      <th>Madinah</th>\n",
       "      <th>24.927535</th>\n",
       "      <th>39.491824</th>\n",
       "      <td>16070</td>\n",
       "      <td>580</td>\n",
       "      <td>2917</td>\n",
       "    </tr>\n",
       "    <tr>\n",
       "      <th>Makkah</th>\n",
       "      <th>21.628963</th>\n",
       "      <th>41.263690</th>\n",
       "      <td>145541</td>\n",
       "      <td>1641</td>\n",
       "      <td>10623</td>\n",
       "    </tr>\n",
       "    <tr>\n",
       "      <th>Najran</th>\n",
       "      <th>18.451100</th>\n",
       "      <th>46.868850</th>\n",
       "      <td>3193</td>\n",
       "      <td>194</td>\n",
       "      <td>766</td>\n",
       "    </tr>\n",
       "    <tr>\n",
       "      <th>Northern Boarder</th>\n",
       "      <th>30.197075</th>\n",
       "      <th>41.817119</th>\n",
       "      <td>11540</td>\n",
       "      <td>112</td>\n",
       "      <td>374</td>\n",
       "    </tr>\n",
       "    <tr>\n",
       "      <th>Riyadh</th>\n",
       "      <th>23.081434</th>\n",
       "      <th>45.585751</th>\n",
       "      <td>99925</td>\n",
       "      <td>1399</td>\n",
       "      <td>4540</td>\n",
       "    </tr>\n",
       "    <tr>\n",
       "      <th>Tabouk</th>\n",
       "      <th>27.901655</th>\n",
       "      <th>37.259858</th>\n",
       "      <td>11713</td>\n",
       "      <td>348</td>\n",
       "      <td>1243</td>\n",
       "    </tr>\n",
       "  </tbody>\n",
       "</table>\n",
       "</div>"
      ],
      "text/plain": [
       "casualty_status                            accidents_total  deaths_total  \\\n",
       "year region           x         y                                          \n",
       "2016 Al-Baha          20.148406 41.466548             3618           185   \n",
       "     Al-Jouf          29.967745 39.557037            10212           245   \n",
       "     Al-Qaseem        26.196706 43.343000            25664           397   \n",
       "     Assir            19.138785 42.941470            32684           983   \n",
       "     Eastern Region   23.288331 50.147830           101619          1113   \n",
       "     Hail             27.400846 41.440696            10199           299   \n",
       "     Jazan            17.207231 42.652581            25873           514   \n",
       "     Madinah          24.927535 39.491824            14475           822   \n",
       "     Makkah           21.628963 41.263690           134838          2243   \n",
       "     Najran           18.451100 46.868850             3235           173   \n",
       "     Northern Boarder 30.197075 41.817119            13196           193   \n",
       "     Riyadh           23.081434 45.585751           141736          1430   \n",
       "     Tabouk           27.901655 37.259858            16031           434   \n",
       "2017 Al-Baha          20.148406 41.466548             1414           134   \n",
       "     Al-Jouf          29.967745 39.557037            10469           240   \n",
       "     Al-Qaseem        26.196706 43.343000            22405           319   \n",
       "     Assir            19.138785 42.941470            25245           828   \n",
       "     Eastern Region   23.288331 50.147830            81433           963   \n",
       "     Hail             27.400846 41.440696             9379           265   \n",
       "     Jazan            17.207231 42.652581            22161           466   \n",
       "     Madinah          24.927535 39.491824            16070           580   \n",
       "     Makkah           21.628963 41.263690           145541          1641   \n",
       "     Najran           18.451100 46.868850             3193           194   \n",
       "     Northern Boarder 30.197075 41.817119            11540           112   \n",
       "     Riyadh           23.081434 45.585751            99925          1399   \n",
       "     Tabouk           27.901655 37.259858            11713           348   \n",
       "\n",
       "casualty_status                            injures_total  \n",
       "year region           x         y                         \n",
       "2016 Al-Baha          20.148406 41.466548           1227  \n",
       "     Al-Jouf          29.967745 39.557037            920  \n",
       "     Al-Qaseem        26.196706 43.343000           1513  \n",
       "     Assir            19.138785 42.941470           2541  \n",
       "     Eastern Region   23.288331 50.147830           4893  \n",
       "     Hail             27.400846 41.440696            932  \n",
       "     Jazan            17.207231 42.652581           2259  \n",
       "     Madinah          24.927535 39.491824           4184  \n",
       "     Makkah           21.628963 41.263690          12383  \n",
       "     Najran           18.451100 46.868850            706  \n",
       "     Northern Boarder 30.197075 41.817119            631  \n",
       "     Riyadh           23.081434 45.585751           4207  \n",
       "     Tabouk           27.901655 37.259858           1724  \n",
       "2017 Al-Baha          20.148406 41.466548           1007  \n",
       "     Al-Jouf          29.967745 39.557037            862  \n",
       "     Al-Qaseem        26.196706 43.343000           1446  \n",
       "     Assir            19.138785 42.941470           2368  \n",
       "     Eastern Region   23.288331 50.147830           4073  \n",
       "     Hail             27.400846 41.440696            773  \n",
       "     Jazan            17.207231 42.652581           2207  \n",
       "     Madinah          24.927535 39.491824           2917  \n",
       "     Makkah           21.628963 41.263690          10623  \n",
       "     Najran           18.451100 46.868850            766  \n",
       "     Northern Boarder 30.197075 41.817119            374  \n",
       "     Riyadh           23.081434 45.585751           4540  \n",
       "     Tabouk           27.901655 37.259858           1243  "
      ]
     },
     "execution_count": 45,
     "metadata": {},
     "output_type": "execute_result"
    }
   ],
   "source": [
    "#code\n",
    "# first change ta_df dataframe to wide format\n",
    "\n",
    "ta_df_wf = ta_df.pivot_table('casualties_total', ['year', 'region', 'x', 'y'], 'casualty_status')\n",
    "ta_df_wf"
   ]
  },
  {
   "cell_type": "markdown",
   "metadata": {},
   "source": [
    "#### 11. Merge dataframes\n",
    "\n",
    "Join the Driving Licenses & Traffic Accidents dataframes using the **region** and **year** in each dataframe as the key. Assign this to a new variable. Which join should you use to preserve the most data?"
   ]
  },
  {
   "cell_type": "code",
   "execution_count": 48,
   "metadata": {},
   "outputs": [
    {
     "data": {
      "text/html": [
       "<div>\n",
       "<style scoped>\n",
       "    .dataframe tbody tr th:only-of-type {\n",
       "        vertical-align: middle;\n",
       "    }\n",
       "\n",
       "    .dataframe tbody tr th {\n",
       "        vertical-align: top;\n",
       "    }\n",
       "\n",
       "    .dataframe thead th {\n",
       "        text-align: right;\n",
       "    }\n",
       "</style>\n",
       "<table border=\"1\" class=\"dataframe\">\n",
       "  <thead>\n",
       "    <tr style=\"text-align: right;\">\n",
       "      <th></th>\n",
       "      <th>year</th>\n",
       "      <th>region</th>\n",
       "      <th>driving_license_total</th>\n",
       "      <th>x</th>\n",
       "      <th>y</th>\n",
       "      <th>accidents_total</th>\n",
       "      <th>deaths_total</th>\n",
       "      <th>injures_total</th>\n",
       "    </tr>\n",
       "  </thead>\n",
       "  <tbody>\n",
       "    <tr>\n",
       "      <th>0</th>\n",
       "      <td>2017</td>\n",
       "      <td>Hail</td>\n",
       "      <td>22035</td>\n",
       "      <td>27.400846</td>\n",
       "      <td>41.440696</td>\n",
       "      <td>9379</td>\n",
       "      <td>265</td>\n",
       "      <td>773</td>\n",
       "    </tr>\n",
       "    <tr>\n",
       "      <th>1</th>\n",
       "      <td>2017</td>\n",
       "      <td>Northern Boarder</td>\n",
       "      <td>5280</td>\n",
       "      <td>30.197075</td>\n",
       "      <td>41.817119</td>\n",
       "      <td>11540</td>\n",
       "      <td>112</td>\n",
       "      <td>374</td>\n",
       "    </tr>\n",
       "    <tr>\n",
       "      <th>2</th>\n",
       "      <td>2016</td>\n",
       "      <td>Al-Baha</td>\n",
       "      <td>4614</td>\n",
       "      <td>20.148406</td>\n",
       "      <td>41.466548</td>\n",
       "      <td>3618</td>\n",
       "      <td>185</td>\n",
       "      <td>1227</td>\n",
       "    </tr>\n",
       "    <tr>\n",
       "      <th>3</th>\n",
       "      <td>2017</td>\n",
       "      <td>Al-Qaseem</td>\n",
       "      <td>6318</td>\n",
       "      <td>26.196706</td>\n",
       "      <td>43.343000</td>\n",
       "      <td>22405</td>\n",
       "      <td>319</td>\n",
       "      <td>1446</td>\n",
       "    </tr>\n",
       "    <tr>\n",
       "      <th>4</th>\n",
       "      <td>2017</td>\n",
       "      <td>Eastern Region</td>\n",
       "      <td>126816</td>\n",
       "      <td>23.288331</td>\n",
       "      <td>50.147830</td>\n",
       "      <td>81433</td>\n",
       "      <td>963</td>\n",
       "      <td>4073</td>\n",
       "    </tr>\n",
       "    <tr>\n",
       "      <th>5</th>\n",
       "      <td>2017</td>\n",
       "      <td>Tabouk</td>\n",
       "      <td>10232</td>\n",
       "      <td>27.901655</td>\n",
       "      <td>37.259858</td>\n",
       "      <td>11713</td>\n",
       "      <td>348</td>\n",
       "      <td>1243</td>\n",
       "    </tr>\n",
       "    <tr>\n",
       "      <th>6</th>\n",
       "      <td>2016</td>\n",
       "      <td>Northern Boarder</td>\n",
       "      <td>4958</td>\n",
       "      <td>30.197075</td>\n",
       "      <td>41.817119</td>\n",
       "      <td>13196</td>\n",
       "      <td>193</td>\n",
       "      <td>631</td>\n",
       "    </tr>\n",
       "    <tr>\n",
       "      <th>7</th>\n",
       "      <td>2016</td>\n",
       "      <td>Najran</td>\n",
       "      <td>2153</td>\n",
       "      <td>18.451100</td>\n",
       "      <td>46.868850</td>\n",
       "      <td>3235</td>\n",
       "      <td>173</td>\n",
       "      <td>706</td>\n",
       "    </tr>\n",
       "    <tr>\n",
       "      <th>8</th>\n",
       "      <td>2017</td>\n",
       "      <td>Makkah</td>\n",
       "      <td>142487</td>\n",
       "      <td>21.628963</td>\n",
       "      <td>41.263690</td>\n",
       "      <td>145541</td>\n",
       "      <td>1641</td>\n",
       "      <td>10623</td>\n",
       "    </tr>\n",
       "    <tr>\n",
       "      <th>9</th>\n",
       "      <td>2016</td>\n",
       "      <td>Makkah</td>\n",
       "      <td>136055</td>\n",
       "      <td>21.628963</td>\n",
       "      <td>41.263690</td>\n",
       "      <td>134838</td>\n",
       "      <td>2243</td>\n",
       "      <td>12383</td>\n",
       "    </tr>\n",
       "    <tr>\n",
       "      <th>10</th>\n",
       "      <td>2016</td>\n",
       "      <td>Madinah</td>\n",
       "      <td>24540</td>\n",
       "      <td>24.927535</td>\n",
       "      <td>39.491824</td>\n",
       "      <td>14475</td>\n",
       "      <td>822</td>\n",
       "      <td>4184</td>\n",
       "    </tr>\n",
       "    <tr>\n",
       "      <th>11</th>\n",
       "      <td>2016</td>\n",
       "      <td>Al-Qaseem</td>\n",
       "      <td>9180</td>\n",
       "      <td>26.196706</td>\n",
       "      <td>43.343000</td>\n",
       "      <td>25664</td>\n",
       "      <td>397</td>\n",
       "      <td>1513</td>\n",
       "    </tr>\n",
       "    <tr>\n",
       "      <th>12</th>\n",
       "      <td>2016</td>\n",
       "      <td>Hail</td>\n",
       "      <td>54507</td>\n",
       "      <td>27.400846</td>\n",
       "      <td>41.440696</td>\n",
       "      <td>10199</td>\n",
       "      <td>299</td>\n",
       "      <td>932</td>\n",
       "    </tr>\n",
       "    <tr>\n",
       "      <th>13</th>\n",
       "      <td>2017</td>\n",
       "      <td>Najran</td>\n",
       "      <td>13825</td>\n",
       "      <td>18.451100</td>\n",
       "      <td>46.868850</td>\n",
       "      <td>3193</td>\n",
       "      <td>194</td>\n",
       "      <td>766</td>\n",
       "    </tr>\n",
       "    <tr>\n",
       "      <th>14</th>\n",
       "      <td>2017</td>\n",
       "      <td>Al-Jouf</td>\n",
       "      <td>8091</td>\n",
       "      <td>29.967745</td>\n",
       "      <td>39.557037</td>\n",
       "      <td>10469</td>\n",
       "      <td>240</td>\n",
       "      <td>862</td>\n",
       "    </tr>\n",
       "    <tr>\n",
       "      <th>15</th>\n",
       "      <td>2017</td>\n",
       "      <td>Madinah</td>\n",
       "      <td>36165</td>\n",
       "      <td>24.927535</td>\n",
       "      <td>39.491824</td>\n",
       "      <td>16070</td>\n",
       "      <td>580</td>\n",
       "      <td>2917</td>\n",
       "    </tr>\n",
       "    <tr>\n",
       "      <th>16</th>\n",
       "      <td>2016</td>\n",
       "      <td>Eastern Region</td>\n",
       "      <td>142307</td>\n",
       "      <td>23.288331</td>\n",
       "      <td>50.147830</td>\n",
       "      <td>101619</td>\n",
       "      <td>1113</td>\n",
       "      <td>4893</td>\n",
       "    </tr>\n",
       "    <tr>\n",
       "      <th>17</th>\n",
       "      <td>2017</td>\n",
       "      <td>Assir</td>\n",
       "      <td>39133</td>\n",
       "      <td>19.138785</td>\n",
       "      <td>42.941470</td>\n",
       "      <td>25245</td>\n",
       "      <td>828</td>\n",
       "      <td>2368</td>\n",
       "    </tr>\n",
       "    <tr>\n",
       "      <th>18</th>\n",
       "      <td>2016</td>\n",
       "      <td>Assir</td>\n",
       "      <td>41367</td>\n",
       "      <td>19.138785</td>\n",
       "      <td>42.941470</td>\n",
       "      <td>32684</td>\n",
       "      <td>983</td>\n",
       "      <td>2541</td>\n",
       "    </tr>\n",
       "    <tr>\n",
       "      <th>19</th>\n",
       "      <td>2017</td>\n",
       "      <td>Jazan</td>\n",
       "      <td>18345</td>\n",
       "      <td>17.207231</td>\n",
       "      <td>42.652581</td>\n",
       "      <td>22161</td>\n",
       "      <td>466</td>\n",
       "      <td>2207</td>\n",
       "    </tr>\n",
       "    <tr>\n",
       "      <th>20</th>\n",
       "      <td>2016</td>\n",
       "      <td>Jazan</td>\n",
       "      <td>11504</td>\n",
       "      <td>17.207231</td>\n",
       "      <td>42.652581</td>\n",
       "      <td>25873</td>\n",
       "      <td>514</td>\n",
       "      <td>2259</td>\n",
       "    </tr>\n",
       "    <tr>\n",
       "      <th>21</th>\n",
       "      <td>2017</td>\n",
       "      <td>Riyadh</td>\n",
       "      <td>495307</td>\n",
       "      <td>23.081434</td>\n",
       "      <td>45.585751</td>\n",
       "      <td>99925</td>\n",
       "      <td>1399</td>\n",
       "      <td>4540</td>\n",
       "    </tr>\n",
       "    <tr>\n",
       "      <th>22</th>\n",
       "      <td>2016</td>\n",
       "      <td>Riyadh</td>\n",
       "      <td>242851</td>\n",
       "      <td>23.081434</td>\n",
       "      <td>45.585751</td>\n",
       "      <td>141736</td>\n",
       "      <td>1430</td>\n",
       "      <td>4207</td>\n",
       "    </tr>\n",
       "    <tr>\n",
       "      <th>23</th>\n",
       "      <td>2017</td>\n",
       "      <td>Al-Baha</td>\n",
       "      <td>4131</td>\n",
       "      <td>20.148406</td>\n",
       "      <td>41.466548</td>\n",
       "      <td>1414</td>\n",
       "      <td>134</td>\n",
       "      <td>1007</td>\n",
       "    </tr>\n",
       "    <tr>\n",
       "      <th>24</th>\n",
       "      <td>2016</td>\n",
       "      <td>Al-Jouf</td>\n",
       "      <td>9371</td>\n",
       "      <td>29.967745</td>\n",
       "      <td>39.557037</td>\n",
       "      <td>10212</td>\n",
       "      <td>245</td>\n",
       "      <td>920</td>\n",
       "    </tr>\n",
       "    <tr>\n",
       "      <th>25</th>\n",
       "      <td>2016</td>\n",
       "      <td>Tabouk</td>\n",
       "      <td>13610</td>\n",
       "      <td>27.901655</td>\n",
       "      <td>37.259858</td>\n",
       "      <td>16031</td>\n",
       "      <td>434</td>\n",
       "      <td>1724</td>\n",
       "    </tr>\n",
       "  </tbody>\n",
       "</table>\n",
       "</div>"
      ],
      "text/plain": [
       "    year            region  driving_license_total          x          y  \\\n",
       "0   2017              Hail                  22035  27.400846  41.440696   \n",
       "1   2017  Northern Boarder                   5280  30.197075  41.817119   \n",
       "2   2016           Al-Baha                   4614  20.148406  41.466548   \n",
       "3   2017         Al-Qaseem                   6318  26.196706  43.343000   \n",
       "4   2017    Eastern Region                 126816  23.288331  50.147830   \n",
       "5   2017            Tabouk                  10232  27.901655  37.259858   \n",
       "6   2016  Northern Boarder                   4958  30.197075  41.817119   \n",
       "7   2016            Najran                   2153  18.451100  46.868850   \n",
       "8   2017            Makkah                 142487  21.628963  41.263690   \n",
       "9   2016            Makkah                 136055  21.628963  41.263690   \n",
       "10  2016           Madinah                  24540  24.927535  39.491824   \n",
       "11  2016         Al-Qaseem                   9180  26.196706  43.343000   \n",
       "12  2016              Hail                  54507  27.400846  41.440696   \n",
       "13  2017            Najran                  13825  18.451100  46.868850   \n",
       "14  2017           Al-Jouf                   8091  29.967745  39.557037   \n",
       "15  2017           Madinah                  36165  24.927535  39.491824   \n",
       "16  2016    Eastern Region                 142307  23.288331  50.147830   \n",
       "17  2017             Assir                  39133  19.138785  42.941470   \n",
       "18  2016             Assir                  41367  19.138785  42.941470   \n",
       "19  2017             Jazan                  18345  17.207231  42.652581   \n",
       "20  2016             Jazan                  11504  17.207231  42.652581   \n",
       "21  2017            Riyadh                 495307  23.081434  45.585751   \n",
       "22  2016            Riyadh                 242851  23.081434  45.585751   \n",
       "23  2017           Al-Baha                   4131  20.148406  41.466548   \n",
       "24  2016           Al-Jouf                   9371  29.967745  39.557037   \n",
       "25  2016            Tabouk                  13610  27.901655  37.259858   \n",
       "\n",
       "    accidents_total  deaths_total  injures_total  \n",
       "0              9379           265            773  \n",
       "1             11540           112            374  \n",
       "2              3618           185           1227  \n",
       "3             22405           319           1446  \n",
       "4             81433           963           4073  \n",
       "5             11713           348           1243  \n",
       "6             13196           193            631  \n",
       "7              3235           173            706  \n",
       "8            145541          1641          10623  \n",
       "9            134838          2243          12383  \n",
       "10            14475           822           4184  \n",
       "11            25664           397           1513  \n",
       "12            10199           299            932  \n",
       "13             3193           194            766  \n",
       "14            10469           240            862  \n",
       "15            16070           580           2917  \n",
       "16           101619          1113           4893  \n",
       "17            25245           828           2368  \n",
       "18            32684           983           2541  \n",
       "19            22161           466           2207  \n",
       "20            25873           514           2259  \n",
       "21            99925          1399           4540  \n",
       "22           141736          1430           4207  \n",
       "23             1414           134           1007  \n",
       "24            10212           245            920  \n",
       "25            16031           434           1724  "
      ]
     },
     "execution_count": 48,
     "metadata": {},
     "output_type": "execute_result"
    }
   ],
   "source": [
    "#code\n",
    "# join dataframe on year and region columns with inner join \n",
    "# and get new dataframe with all columns of ta_df and one extra column of dl_df 'driving_license_total'\n",
    "# We get new dataframe with new column driving_license_total but with missing more years 1993 - 2015 in Driving Licenses\n",
    "\n",
    "ta_dl_df = pd.merge(dl_df, ta_df_wf, how='inner', on=['year','region'])\n",
    "ta_dl_df"
   ]
  },
  {
   "cell_type": "code",
   "execution_count": 55,
   "metadata": {},
   "outputs": [
    {
     "data": {
      "text/html": [
       "<div>\n",
       "<style scoped>\n",
       "    .dataframe tbody tr th:only-of-type {\n",
       "        vertical-align: middle;\n",
       "    }\n",
       "\n",
       "    .dataframe tbody tr th {\n",
       "        vertical-align: top;\n",
       "    }\n",
       "\n",
       "    .dataframe thead th {\n",
       "        text-align: right;\n",
       "    }\n",
       "</style>\n",
       "<table border=\"1\" class=\"dataframe\">\n",
       "  <thead>\n",
       "    <tr style=\"text-align: right;\">\n",
       "      <th></th>\n",
       "      <th>year</th>\n",
       "      <th>region</th>\n",
       "      <th>driving_license_total</th>\n",
       "      <th>x</th>\n",
       "      <th>y</th>\n",
       "      <th>accidents_total</th>\n",
       "      <th>deaths_total</th>\n",
       "      <th>injures_total</th>\n",
       "    </tr>\n",
       "  </thead>\n",
       "  <tbody>\n",
       "    <tr>\n",
       "      <th>0</th>\n",
       "      <td>2012</td>\n",
       "      <td>Makkah</td>\n",
       "      <td>143954</td>\n",
       "      <td>21.628963</td>\n",
       "      <td>41.26369</td>\n",
       "      <td>NaN</td>\n",
       "      <td>NaN</td>\n",
       "      <td>NaN</td>\n",
       "    </tr>\n",
       "    <tr>\n",
       "      <th>1</th>\n",
       "      <td>1994</td>\n",
       "      <td>Makkah</td>\n",
       "      <td>75349</td>\n",
       "      <td>21.628963</td>\n",
       "      <td>41.26369</td>\n",
       "      <td>NaN</td>\n",
       "      <td>NaN</td>\n",
       "      <td>NaN</td>\n",
       "    </tr>\n",
       "    <tr>\n",
       "      <th>2</th>\n",
       "      <td>1998</td>\n",
       "      <td>Makkah</td>\n",
       "      <td>86082</td>\n",
       "      <td>21.628963</td>\n",
       "      <td>41.26369</td>\n",
       "      <td>NaN</td>\n",
       "      <td>NaN</td>\n",
       "      <td>NaN</td>\n",
       "    </tr>\n",
       "    <tr>\n",
       "      <th>3</th>\n",
       "      <td>2004</td>\n",
       "      <td>Makkah</td>\n",
       "      <td>86636</td>\n",
       "      <td>21.628963</td>\n",
       "      <td>41.26369</td>\n",
       "      <td>NaN</td>\n",
       "      <td>NaN</td>\n",
       "      <td>NaN</td>\n",
       "    </tr>\n",
       "    <tr>\n",
       "      <th>4</th>\n",
       "      <td>2005</td>\n",
       "      <td>Makkah</td>\n",
       "      <td>65099</td>\n",
       "      <td>21.628963</td>\n",
       "      <td>41.26369</td>\n",
       "      <td>NaN</td>\n",
       "      <td>NaN</td>\n",
       "      <td>NaN</td>\n",
       "    </tr>\n",
       "  </tbody>\n",
       "</table>\n",
       "</div>"
      ],
      "text/plain": [
       "   year  region  driving_license_total          x         y  accidents_total  \\\n",
       "0  2012  Makkah                 143954  21.628963  41.26369              NaN   \n",
       "1  1994  Makkah                  75349  21.628963  41.26369              NaN   \n",
       "2  1998  Makkah                  86082  21.628963  41.26369              NaN   \n",
       "3  2004  Makkah                  86636  21.628963  41.26369              NaN   \n",
       "4  2005  Makkah                  65099  21.628963  41.26369              NaN   \n",
       "\n",
       "   deaths_total  injures_total  \n",
       "0           NaN            NaN  \n",
       "1           NaN            NaN  \n",
       "2           NaN            NaN  \n",
       "3           NaN            NaN  \n",
       "4           NaN            NaN  "
      ]
     },
     "execution_count": 55,
     "metadata": {},
     "output_type": "execute_result"
    }
   ],
   "source": [
    "# join dataframe on year and region columns with outer join \n",
    "# and get new dataframe with all columns of ta_df and one extra column of dl_df 'driving_license_total'\n",
    "# with missing values in accident_total , deaths_total and injures_total because \n",
    "# there are non values in years columns from 1993 to 2017 in Driving liceneses dataframe\n",
    "# but we get all years\n",
    "\n",
    "ta_dl_df1 = pd.merge(dl_df, ta_df_wf, how='outer', on=['year','region'])\n",
    "ta_dl_df1.head()"
   ]
  },
  {
   "cell_type": "markdown",
   "metadata": {},
   "source": [
    "#### 12. Save your cleaned, merged dataframe\n",
    "\n",
    "Use a relative path to save out your data as `combined_datasets.csv`."
   ]
  },
  {
   "cell_type": "code",
   "execution_count": 47,
   "metadata": {},
   "outputs": [],
   "source": [
    "#code\n",
    "# we will save second dataframe ta_dl_df1\n",
    "pd.DataFrame.to_csv(ta_dl_df1,'new_data/combined_datasets.csv')"
   ]
  },
  {
   "cell_type": "markdown",
   "metadata": {},
   "source": [
    "## Exploratory Data Analysis\n",
    "\n",
    "\n",
    "### Summary Statistics\n",
    "Transpose the output of pandas `describe` method to create a quick overview of each numeric feature."
   ]
  },
  {
   "cell_type": "markdown",
   "metadata": {},
   "source": [
    "#### Manually calculate standard deviation\n",
    "\n",
    "$$\\sigma = \\sqrt{\\frac{1}{n}\\sum_{i=1}^n(x_i - \\mu)^2}$$\n",
    "\n",
    "- Write a function to calculate standard deviation using the formula above"
   ]
  },
  {
   "cell_type": "markdown",
   "metadata": {},
   "source": [
    "- Use a **dictionary comprehension** to apply your standard deviation function to each numeric column in the dataframe.  **No loops**  \n",
    "- Assign the output to variable `sd` as a dictionary where: \n",
    "    - Each column name is now a key \n",
    "    - That standard deviation of the column is the value \n",
    "     \n",
    "*Example Output :* `{'Driving_Licenses_x': 120, 'Traffic_Accidents_x': 120, ...}`"
   ]
  },
  {
   "cell_type": "code",
   "execution_count": 49,
   "metadata": {
    "scrolled": false
   },
   "outputs": [],
   "source": [
    "lst_cols_ta = [['year', 'casualties_total', 'x', 'y'], ['year', 'driving_license_total', 'x', 'y']]\n",
    "df = ta_df, dl_df\n",
    "sd = { }\n",
    "\n",
    "def standard_deviation(df, col):\n",
    "    # Number of observations\n",
    "    n = df.shape[0]\n",
    "    # Mean of the data\n",
    "    mean = sum(df[col])/n\n",
    "    # Square deviations\n",
    "    deviations = [(x - mean) ** 2 for x in df[col]]\n",
    "    # Variance\n",
    "    variance = sum(deviations) / n\n",
    "    return variance ** (1/2)\n",
    "\n",
    "\n",
    "for i in range(len(lst_cols_ta)): \n",
    "    for col in lst_cols_ta[i]:\n",
    "        std = standard_deviation(df[i], col)\n",
    "        if (i == 0) & ((col == 'year') | (col == 'x') | (col == 'y')):\n",
    "            sd.update({'Traffic_Accidents_'+col:std})\n",
    "        elif (i == 1) & ((col == 'year') | (col == 'x') | (col == 'y')):\n",
    "            sd.update({'Driving_Licenses_'+col:std})\n",
    "        else:\n",
    "            if (i==0) & (col=='casualties_total'):\n",
    "                sd.update({'Traffic_Accidents_'+col:std})\n",
    "            else:\n",
    "                sd.update({'Driving_Licenses_'+col:std})"
   ]
  },
  {
   "cell_type": "markdown",
   "metadata": {},
   "source": [
    "**Traffic Accident Dataframe `ta_df`**"
   ]
  },
  {
   "cell_type": "code",
   "execution_count": 50,
   "metadata": {},
   "outputs": [
    {
     "data": {
      "text/html": [
       "<div>\n",
       "<style scoped>\n",
       "    .dataframe tbody tr th:only-of-type {\n",
       "        vertical-align: middle;\n",
       "    }\n",
       "\n",
       "    .dataframe tbody tr th {\n",
       "        vertical-align: top;\n",
       "    }\n",
       "\n",
       "    .dataframe thead th {\n",
       "        text-align: right;\n",
       "    }\n",
       "</style>\n",
       "<table border=\"1\" class=\"dataframe\">\n",
       "  <thead>\n",
       "    <tr style=\"text-align: right;\">\n",
       "      <th></th>\n",
       "      <th>count</th>\n",
       "      <th>mean</th>\n",
       "      <th>std</th>\n",
       "      <th>min</th>\n",
       "      <th>25%</th>\n",
       "      <th>50%</th>\n",
       "      <th>75%</th>\n",
       "      <th>max</th>\n",
       "    </tr>\n",
       "  </thead>\n",
       "  <tbody>\n",
       "    <tr>\n",
       "      <th>year</th>\n",
       "      <td>78.0</td>\n",
       "      <td>2016.500000</td>\n",
       "      <td>0.503236</td>\n",
       "      <td>2016.000000</td>\n",
       "      <td>2016.000000</td>\n",
       "      <td>2016.500000</td>\n",
       "      <td>2017.000000</td>\n",
       "      <td>2017.000000</td>\n",
       "    </tr>\n",
       "    <tr>\n",
       "      <th>casualties_total</th>\n",
       "      <td>78.0</td>\n",
       "      <td>13868.038462</td>\n",
       "      <td>31716.885363</td>\n",
       "      <td>112.000000</td>\n",
       "      <td>721.000000</td>\n",
       "      <td>1682.500000</td>\n",
       "      <td>10584.500000</td>\n",
       "      <td>145541.000000</td>\n",
       "    </tr>\n",
       "    <tr>\n",
       "      <th>x</th>\n",
       "      <td>78.0</td>\n",
       "      <td>23.810447</td>\n",
       "      <td>4.218654</td>\n",
       "      <td>17.207231</td>\n",
       "      <td>20.148406</td>\n",
       "      <td>23.288331</td>\n",
       "      <td>27.400846</td>\n",
       "      <td>30.197075</td>\n",
       "    </tr>\n",
       "    <tr>\n",
       "      <th>y</th>\n",
       "      <td>78.0</td>\n",
       "      <td>42.602789</td>\n",
       "      <td>3.270216</td>\n",
       "      <td>37.259858</td>\n",
       "      <td>41.263690</td>\n",
       "      <td>41.817119</td>\n",
       "      <td>43.343000</td>\n",
       "      <td>50.147830</td>\n",
       "    </tr>\n",
       "  </tbody>\n",
       "</table>\n",
       "</div>"
      ],
      "text/plain": [
       "                  count          mean           std          min          25%  \\\n",
       "year               78.0   2016.500000      0.503236  2016.000000  2016.000000   \n",
       "casualties_total   78.0  13868.038462  31716.885363   112.000000   721.000000   \n",
       "x                  78.0     23.810447      4.218654    17.207231    20.148406   \n",
       "y                  78.0     42.602789      3.270216    37.259858    41.263690   \n",
       "\n",
       "                          50%           75%            max  \n",
       "year              2016.500000   2017.000000    2017.000000  \n",
       "casualties_total  1682.500000  10584.500000  145541.000000  \n",
       "x                   23.288331     27.400846      30.197075  \n",
       "y                   41.817119     43.343000      50.147830  "
      ]
     },
     "execution_count": 50,
     "metadata": {},
     "output_type": "execute_result"
    }
   ],
   "source": [
    "ta_df.describe().transpose()"
   ]
  },
  {
   "cell_type": "markdown",
   "metadata": {},
   "source": [
    "**Driving Licenses Dataframe `dl_df`**"
   ]
  },
  {
   "cell_type": "code",
   "execution_count": 51,
   "metadata": {},
   "outputs": [
    {
     "data": {
      "text/html": [
       "<div>\n",
       "<style scoped>\n",
       "    .dataframe tbody tr th:only-of-type {\n",
       "        vertical-align: middle;\n",
       "    }\n",
       "\n",
       "    .dataframe tbody tr th {\n",
       "        vertical-align: top;\n",
       "    }\n",
       "\n",
       "    .dataframe thead th {\n",
       "        text-align: right;\n",
       "    }\n",
       "</style>\n",
       "<table border=\"1\" class=\"dataframe\">\n",
       "  <thead>\n",
       "    <tr style=\"text-align: right;\">\n",
       "      <th></th>\n",
       "      <th>count</th>\n",
       "      <th>mean</th>\n",
       "      <th>std</th>\n",
       "      <th>min</th>\n",
       "      <th>25%</th>\n",
       "      <th>50%</th>\n",
       "      <th>75%</th>\n",
       "      <th>max</th>\n",
       "    </tr>\n",
       "  </thead>\n",
       "  <tbody>\n",
       "    <tr>\n",
       "      <th>year</th>\n",
       "      <td>325.0</td>\n",
       "      <td>2005.000000</td>\n",
       "      <td>7.222222</td>\n",
       "      <td>1993.000000</td>\n",
       "      <td>1999.000000</td>\n",
       "      <td>2005.000000</td>\n",
       "      <td>2011.000000</td>\n",
       "      <td>2017.000000</td>\n",
       "    </tr>\n",
       "    <tr>\n",
       "      <th>driving_license_total</th>\n",
       "      <td>325.0</td>\n",
       "      <td>28915.347692</td>\n",
       "      <td>47419.058819</td>\n",
       "      <td>915.000000</td>\n",
       "      <td>4846.000000</td>\n",
       "      <td>10267.000000</td>\n",
       "      <td>25423.000000</td>\n",
       "      <td>495307.000000</td>\n",
       "    </tr>\n",
       "    <tr>\n",
       "      <th>x</th>\n",
       "      <td>325.0</td>\n",
       "      <td>23.810447</td>\n",
       "      <td>4.197987</td>\n",
       "      <td>17.207231</td>\n",
       "      <td>20.148406</td>\n",
       "      <td>23.288331</td>\n",
       "      <td>27.400846</td>\n",
       "      <td>30.197075</td>\n",
       "    </tr>\n",
       "    <tr>\n",
       "      <th>y</th>\n",
       "      <td>325.0</td>\n",
       "      <td>42.602789</td>\n",
       "      <td>3.254196</td>\n",
       "      <td>37.259858</td>\n",
       "      <td>41.263690</td>\n",
       "      <td>41.817119</td>\n",
       "      <td>43.343000</td>\n",
       "      <td>50.147830</td>\n",
       "    </tr>\n",
       "  </tbody>\n",
       "</table>\n",
       "</div>"
      ],
      "text/plain": [
       "                       count          mean           std          min  \\\n",
       "year                   325.0   2005.000000      7.222222  1993.000000   \n",
       "driving_license_total  325.0  28915.347692  47419.058819   915.000000   \n",
       "x                      325.0     23.810447      4.197987    17.207231   \n",
       "y                      325.0     42.602789      3.254196    37.259858   \n",
       "\n",
       "                               25%           50%           75%            max  \n",
       "year                   1999.000000   2005.000000   2011.000000    2017.000000  \n",
       "driving_license_total  4846.000000  10267.000000  25423.000000  495307.000000  \n",
       "x                        20.148406     23.288331     27.400846      30.197075  \n",
       "y                        41.263690     41.817119     43.343000      50.147830  "
      ]
     },
     "execution_count": 51,
     "metadata": {},
     "output_type": "execute_result"
    }
   ],
   "source": [
    "dl_df.describe().transpose()"
   ]
  },
  {
   "cell_type": "markdown",
   "metadata": {},
   "source": [
    "**After applying function of `standard_deviation` for all numeric columns of `ta_df` and `dl_df`**"
   ]
  },
  {
   "cell_type": "code",
   "execution_count": 52,
   "metadata": {
    "scrolled": true
   },
   "outputs": [
    {
     "data": {
      "text/plain": [
       "{'Traffic_Accidents_year': 0.5,\n",
       " 'Traffic_Accidents_casualties_total': 31512.916138463017,\n",
       " 'Traffic_Accidents_x': 4.191524025811862,\n",
       " 'Traffic_Accidents_y': 3.249185305131691,\n",
       " 'Driving_Licenses_year': 7.211102550927978,\n",
       " 'Driving_Licenses_driving_license_total': 47346.0502174464,\n",
       " 'Driving_Licenses_x': 4.1915240258118605,\n",
       " 'Driving_Licenses_y': 3.24918530513169}"
      ]
     },
     "execution_count": 52,
     "metadata": {},
     "output_type": "execute_result"
    }
   ],
   "source": [
    "sd"
   ]
  },
  {
   "cell_type": "markdown",
   "metadata": {},
   "source": [
    "Do your manually calculated standard deviations match up with the output from pandas `describe`? What about numpy's `std` method?"
   ]
  },
  {
   "cell_type": "markdown",
   "metadata": {},
   "source": [
    "Answer: Yes, it matched up with the output from pandas `describe`."
   ]
  },
  {
   "cell_type": "markdown",
   "metadata": {},
   "source": [
    "**numpy standard deviation for all numeric columns of `ta_df` and `dl_df`**"
   ]
  },
  {
   "cell_type": "code",
   "execution_count": 53,
   "metadata": {},
   "outputs": [
    {
     "name": "stdout",
     "output_type": "stream",
     "text": [
      "Traffic Accidents:\n",
      " year                    0.500000\n",
      "casualties_total    31512.916138\n",
      "x                       4.191524\n",
      "y                       3.249185\n",
      "dtype: float64 \n",
      "\n",
      "Driving Liceses:\n",
      " year                         7.211103\n",
      "driving_license_total    47346.050217\n",
      "x                            4.191524\n",
      "y                            3.249185\n",
      "dtype: float64\n"
     ]
    }
   ],
   "source": [
    "#Code:\n",
    "print(f'Traffic Accidents:\\n {np.std(ta_df)} \\n')\n",
    "print(f'Driving Liceses:\\n {np.std(dl_df)}')"
   ]
  },
  {
   "cell_type": "markdown",
   "metadata": {},
   "source": [
    "Answer: Also numpy `std` matched up the outpot of function and from pandas `describe`"
   ]
  },
  {
   "cell_type": "markdown",
   "metadata": {},
   "source": [
    "#### Investigate trends in the data\n",
    "Using sorting and/or masking (along with the `.head` method to not print our entire dataframe), consider the following questions:\n",
    "\n",
    "- Which regions have the highest and lowest Driving Licenses based on years (1993 - 2017)\n",
    "- Which regions have the highest and lowest mean Traffic Accidents numbers for years (2016 - 2017)\n",
    "- What are the regions that have more Driving Licenses issued in each year than the year average?\n",
    "- What are the regions that have more Traffic Accidents happened in each year than the year average?\n",
    "\n",
    "Based on what you've just observed, have you identified any regions that you're especially interested in? **Make a note of these and state *why* you think they're interesting**.\n",
    "\n",
    "**You should comment on your findings at each step in a markdown cell below your code block**. Make sure you include at least one example of sorting your dataframe by a column, and one example of using boolean filtering (i.e., masking) to select a subset of the dataframe."
   ]
  },
  {
   "cell_type": "markdown",
   "metadata": {},
   "source": [
    "**Which regions have the highest and lowest Driving Licenses based on years (1993 - 2017)**\n",
    "\n",
    "The target columns is `driving_license_total`"
   ]
  },
  {
   "cell_type": "code",
   "execution_count": 56,
   "metadata": {},
   "outputs": [
    {
     "data": {
      "text/html": [
       "<div>\n",
       "<style scoped>\n",
       "    .dataframe tbody tr th:only-of-type {\n",
       "        vertical-align: middle;\n",
       "    }\n",
       "\n",
       "    .dataframe tbody tr th {\n",
       "        vertical-align: top;\n",
       "    }\n",
       "\n",
       "    .dataframe thead th {\n",
       "        text-align: right;\n",
       "    }\n",
       "</style>\n",
       "<table border=\"1\" class=\"dataframe\">\n",
       "  <thead>\n",
       "    <tr style=\"text-align: right;\">\n",
       "      <th></th>\n",
       "      <th>year</th>\n",
       "      <th>region</th>\n",
       "      <th>driving_license_total</th>\n",
       "      <th>x</th>\n",
       "      <th>y</th>\n",
       "      <th>accidents_total</th>\n",
       "      <th>deaths_total</th>\n",
       "      <th>injures_total</th>\n",
       "    </tr>\n",
       "  </thead>\n",
       "  <tbody>\n",
       "    <tr>\n",
       "      <th>271</th>\n",
       "      <td>2017</td>\n",
       "      <td>Riyadh</td>\n",
       "      <td>495307</td>\n",
       "      <td>23.081434</td>\n",
       "      <td>45.585751</td>\n",
       "      <td>99925.0</td>\n",
       "      <td>1399.0</td>\n",
       "      <td>4540.0</td>\n",
       "    </tr>\n",
       "    <tr>\n",
       "      <th>272</th>\n",
       "      <td>2016</td>\n",
       "      <td>Riyadh</td>\n",
       "      <td>242851</td>\n",
       "      <td>23.081434</td>\n",
       "      <td>45.585751</td>\n",
       "      <td>141736.0</td>\n",
       "      <td>1430.0</td>\n",
       "      <td>4207.0</td>\n",
       "    </tr>\n",
       "    <tr>\n",
       "      <th>140</th>\n",
       "      <td>2014</td>\n",
       "      <td>Riyadh</td>\n",
       "      <td>194208</td>\n",
       "      <td>23.081434</td>\n",
       "      <td>45.585751</td>\n",
       "      <td>NaN</td>\n",
       "      <td>NaN</td>\n",
       "      <td>NaN</td>\n",
       "    </tr>\n",
       "    <tr>\n",
       "      <th>59</th>\n",
       "      <td>2013</td>\n",
       "      <td>Riyadh</td>\n",
       "      <td>165994</td>\n",
       "      <td>23.081434</td>\n",
       "      <td>45.585751</td>\n",
       "      <td>NaN</td>\n",
       "      <td>NaN</td>\n",
       "      <td>NaN</td>\n",
       "    </tr>\n",
       "    <tr>\n",
       "      <th>62</th>\n",
       "      <td>2015</td>\n",
       "      <td>Makkah</td>\n",
       "      <td>157389</td>\n",
       "      <td>21.628963</td>\n",
       "      <td>41.263690</td>\n",
       "      <td>NaN</td>\n",
       "      <td>NaN</td>\n",
       "      <td>NaN</td>\n",
       "    </tr>\n",
       "  </tbody>\n",
       "</table>\n",
       "</div>"
      ],
      "text/plain": [
       "     year  region  driving_license_total          x          y  \\\n",
       "271  2017  Riyadh                 495307  23.081434  45.585751   \n",
       "272  2016  Riyadh                 242851  23.081434  45.585751   \n",
       "140  2014  Riyadh                 194208  23.081434  45.585751   \n",
       "59   2013  Riyadh                 165994  23.081434  45.585751   \n",
       "62   2015  Makkah                 157389  21.628963  41.263690   \n",
       "\n",
       "     accidents_total  deaths_total  injures_total  \n",
       "271          99925.0        1399.0         4540.0  \n",
       "272         141736.0        1430.0         4207.0  \n",
       "140              NaN           NaN            NaN  \n",
       "59               NaN           NaN            NaN  \n",
       "62               NaN           NaN            NaN  "
      ]
     },
     "execution_count": 56,
     "metadata": {},
     "output_type": "execute_result"
    }
   ],
   "source": [
    "#code\n",
    "# the highest Driving Licenses based on years (1993 - 2017)\n",
    "ta_dl_df1.sort_values(by='driving_license_total', ascending=False).head()"
   ]
  },
  {
   "cell_type": "code",
   "execution_count": 58,
   "metadata": {},
   "outputs": [
    {
     "data": {
      "text/html": [
       "<div>\n",
       "<style scoped>\n",
       "    .dataframe tbody tr th:only-of-type {\n",
       "        vertical-align: middle;\n",
       "    }\n",
       "\n",
       "    .dataframe tbody tr th {\n",
       "        vertical-align: top;\n",
       "    }\n",
       "\n",
       "    .dataframe thead th {\n",
       "        text-align: right;\n",
       "    }\n",
       "</style>\n",
       "<table border=\"1\" class=\"dataframe\">\n",
       "  <thead>\n",
       "    <tr style=\"text-align: right;\">\n",
       "      <th></th>\n",
       "      <th>year</th>\n",
       "      <th>region</th>\n",
       "      <th>driving_license_total</th>\n",
       "      <th>x</th>\n",
       "      <th>y</th>\n",
       "      <th>accidents_total</th>\n",
       "      <th>deaths_total</th>\n",
       "      <th>injures_total</th>\n",
       "    </tr>\n",
       "  </thead>\n",
       "  <tbody>\n",
       "    <tr>\n",
       "      <th>191</th>\n",
       "      <td>2015</td>\n",
       "      <td>Tabouk</td>\n",
       "      <td>915</td>\n",
       "      <td>27.901655</td>\n",
       "      <td>37.259858</td>\n",
       "      <td>NaN</td>\n",
       "      <td>NaN</td>\n",
       "      <td>NaN</td>\n",
       "    </tr>\n",
       "    <tr>\n",
       "      <th>161</th>\n",
       "      <td>2007</td>\n",
       "      <td>Al-Baha</td>\n",
       "      <td>997</td>\n",
       "      <td>20.148406</td>\n",
       "      <td>41.466548</td>\n",
       "      <td>NaN</td>\n",
       "      <td>NaN</td>\n",
       "      <td>NaN</td>\n",
       "    </tr>\n",
       "    <tr>\n",
       "      <th>259</th>\n",
       "      <td>1995</td>\n",
       "      <td>Northern Boarder</td>\n",
       "      <td>1318</td>\n",
       "      <td>30.197075</td>\n",
       "      <td>41.817119</td>\n",
       "      <td>NaN</td>\n",
       "      <td>NaN</td>\n",
       "      <td>NaN</td>\n",
       "    </tr>\n",
       "    <tr>\n",
       "      <th>148</th>\n",
       "      <td>1996</td>\n",
       "      <td>Northern Boarder</td>\n",
       "      <td>1383</td>\n",
       "      <td>30.197075</td>\n",
       "      <td>41.817119</td>\n",
       "      <td>NaN</td>\n",
       "      <td>NaN</td>\n",
       "      <td>NaN</td>\n",
       "    </tr>\n",
       "    <tr>\n",
       "      <th>260</th>\n",
       "      <td>1994</td>\n",
       "      <td>Northern Boarder</td>\n",
       "      <td>1457</td>\n",
       "      <td>30.197075</td>\n",
       "      <td>41.817119</td>\n",
       "      <td>NaN</td>\n",
       "      <td>NaN</td>\n",
       "      <td>NaN</td>\n",
       "    </tr>\n",
       "  </tbody>\n",
       "</table>\n",
       "</div>"
      ],
      "text/plain": [
       "     year            region  driving_license_total          x          y  \\\n",
       "191  2015            Tabouk                    915  27.901655  37.259858   \n",
       "161  2007           Al-Baha                    997  20.148406  41.466548   \n",
       "259  1995  Northern Boarder                   1318  30.197075  41.817119   \n",
       "148  1996  Northern Boarder                   1383  30.197075  41.817119   \n",
       "260  1994  Northern Boarder                   1457  30.197075  41.817119   \n",
       "\n",
       "     accidents_total  deaths_total  injures_total  \n",
       "191              NaN           NaN            NaN  \n",
       "161              NaN           NaN            NaN  \n",
       "259              NaN           NaN            NaN  \n",
       "148              NaN           NaN            NaN  \n",
       "260              NaN           NaN            NaN  "
      ]
     },
     "execution_count": 58,
     "metadata": {},
     "output_type": "execute_result"
    }
   ],
   "source": [
    "# the lowest Driving Licenses based on years (1993 - 2017)\n",
    "ta_dl_df1.sort_values(by='driving_license_total').head()"
   ]
  },
  {
   "cell_type": "markdown",
   "metadata": {},
   "source": [
    "**Which regions have the highest and lowest mean Traffic Accidents numbers for years (2016 - 2017)**\n",
    "\n",
    "The target column is `accidents_total`"
   ]
  },
  {
   "cell_type": "code",
   "execution_count": 59,
   "metadata": {},
   "outputs": [
    {
     "data": {
      "text/html": [
       "<div>\n",
       "<style scoped>\n",
       "    .dataframe tbody tr th:only-of-type {\n",
       "        vertical-align: middle;\n",
       "    }\n",
       "\n",
       "    .dataframe tbody tr th {\n",
       "        vertical-align: top;\n",
       "    }\n",
       "\n",
       "    .dataframe thead th {\n",
       "        text-align: right;\n",
       "    }\n",
       "</style>\n",
       "<table border=\"1\" class=\"dataframe\">\n",
       "  <thead>\n",
       "    <tr style=\"text-align: right;\">\n",
       "      <th></th>\n",
       "      <th>year</th>\n",
       "      <th>region</th>\n",
       "      <th>driving_license_total</th>\n",
       "      <th>x</th>\n",
       "      <th>y</th>\n",
       "      <th>accidents_total</th>\n",
       "      <th>deaths_total</th>\n",
       "      <th>injures_total</th>\n",
       "    </tr>\n",
       "  </thead>\n",
       "  <tbody>\n",
       "    <tr>\n",
       "      <th>142</th>\n",
       "      <td>2017</td>\n",
       "      <td>Makkah</td>\n",
       "      <td>142487</td>\n",
       "      <td>21.628963</td>\n",
       "      <td>41.263690</td>\n",
       "      <td>145541.0</td>\n",
       "      <td>1641.0</td>\n",
       "      <td>10623.0</td>\n",
       "    </tr>\n",
       "    <tr>\n",
       "      <th>272</th>\n",
       "      <td>2016</td>\n",
       "      <td>Riyadh</td>\n",
       "      <td>242851</td>\n",
       "      <td>23.081434</td>\n",
       "      <td>45.585751</td>\n",
       "      <td>141736.0</td>\n",
       "      <td>1430.0</td>\n",
       "      <td>4207.0</td>\n",
       "    </tr>\n",
       "    <tr>\n",
       "      <th>143</th>\n",
       "      <td>2016</td>\n",
       "      <td>Makkah</td>\n",
       "      <td>136055</td>\n",
       "      <td>21.628963</td>\n",
       "      <td>41.263690</td>\n",
       "      <td>134838.0</td>\n",
       "      <td>2243.0</td>\n",
       "      <td>12383.0</td>\n",
       "    </tr>\n",
       "    <tr>\n",
       "      <th>235</th>\n",
       "      <td>2016</td>\n",
       "      <td>Eastern Region</td>\n",
       "      <td>142307</td>\n",
       "      <td>23.288331</td>\n",
       "      <td>50.147830</td>\n",
       "      <td>101619.0</td>\n",
       "      <td>1113.0</td>\n",
       "      <td>4893.0</td>\n",
       "    </tr>\n",
       "    <tr>\n",
       "      <th>271</th>\n",
       "      <td>2017</td>\n",
       "      <td>Riyadh</td>\n",
       "      <td>495307</td>\n",
       "      <td>23.081434</td>\n",
       "      <td>45.585751</td>\n",
       "      <td>99925.0</td>\n",
       "      <td>1399.0</td>\n",
       "      <td>4540.0</td>\n",
       "    </tr>\n",
       "  </tbody>\n",
       "</table>\n",
       "</div>"
      ],
      "text/plain": [
       "     year          region  driving_license_total          x          y  \\\n",
       "142  2017          Makkah                 142487  21.628963  41.263690   \n",
       "272  2016          Riyadh                 242851  23.081434  45.585751   \n",
       "143  2016          Makkah                 136055  21.628963  41.263690   \n",
       "235  2016  Eastern Region                 142307  23.288331  50.147830   \n",
       "271  2017          Riyadh                 495307  23.081434  45.585751   \n",
       "\n",
       "     accidents_total  deaths_total  injures_total  \n",
       "142         145541.0        1641.0        10623.0  \n",
       "272         141736.0        1430.0         4207.0  \n",
       "143         134838.0        2243.0        12383.0  \n",
       "235         101619.0        1113.0         4893.0  \n",
       "271          99925.0        1399.0         4540.0  "
      ]
     },
     "execution_count": 59,
     "metadata": {},
     "output_type": "execute_result"
    }
   ],
   "source": [
    "# the highest mean of Traffic Accidents numbers for years (2016 - 2017)\n",
    "ta_dl_df1.sort_values(by='accidents_total', ascending=False).head()"
   ]
  },
  {
   "cell_type": "code",
   "execution_count": 60,
   "metadata": {
    "scrolled": false
   },
   "outputs": [
    {
     "data": {
      "text/html": [
       "<div>\n",
       "<style scoped>\n",
       "    .dataframe tbody tr th:only-of-type {\n",
       "        vertical-align: middle;\n",
       "    }\n",
       "\n",
       "    .dataframe tbody tr th {\n",
       "        vertical-align: top;\n",
       "    }\n",
       "\n",
       "    .dataframe thead th {\n",
       "        text-align: right;\n",
       "    }\n",
       "</style>\n",
       "<table border=\"1\" class=\"dataframe\">\n",
       "  <thead>\n",
       "    <tr style=\"text-align: right;\">\n",
       "      <th></th>\n",
       "      <th>year</th>\n",
       "      <th>region</th>\n",
       "      <th>driving_license_total</th>\n",
       "      <th>x</th>\n",
       "      <th>y</th>\n",
       "      <th>accidents_total</th>\n",
       "      <th>deaths_total</th>\n",
       "      <th>injures_total</th>\n",
       "    </tr>\n",
       "  </thead>\n",
       "  <tbody>\n",
       "    <tr>\n",
       "      <th>285</th>\n",
       "      <td>2017</td>\n",
       "      <td>Al-Baha</td>\n",
       "      <td>4131</td>\n",
       "      <td>20.148406</td>\n",
       "      <td>41.466548</td>\n",
       "      <td>1414.0</td>\n",
       "      <td>134.0</td>\n",
       "      <td>1007.0</td>\n",
       "    </tr>\n",
       "    <tr>\n",
       "      <th>206</th>\n",
       "      <td>2017</td>\n",
       "      <td>Najran</td>\n",
       "      <td>13825</td>\n",
       "      <td>18.451100</td>\n",
       "      <td>46.868850</td>\n",
       "      <td>3193.0</td>\n",
       "      <td>194.0</td>\n",
       "      <td>766.0</td>\n",
       "    </tr>\n",
       "    <tr>\n",
       "      <th>119</th>\n",
       "      <td>2016</td>\n",
       "      <td>Najran</td>\n",
       "      <td>2153</td>\n",
       "      <td>18.451100</td>\n",
       "      <td>46.868850</td>\n",
       "      <td>3235.0</td>\n",
       "      <td>173.0</td>\n",
       "      <td>706.0</td>\n",
       "    </tr>\n",
       "    <tr>\n",
       "      <th>50</th>\n",
       "      <td>2016</td>\n",
       "      <td>Al-Baha</td>\n",
       "      <td>4614</td>\n",
       "      <td>20.148406</td>\n",
       "      <td>41.466548</td>\n",
       "      <td>3618.0</td>\n",
       "      <td>185.0</td>\n",
       "      <td>1227.0</td>\n",
       "    </tr>\n",
       "    <tr>\n",
       "      <th>27</th>\n",
       "      <td>2017</td>\n",
       "      <td>Hail</td>\n",
       "      <td>22035</td>\n",
       "      <td>27.400846</td>\n",
       "      <td>41.440696</td>\n",
       "      <td>9379.0</td>\n",
       "      <td>265.0</td>\n",
       "      <td>773.0</td>\n",
       "    </tr>\n",
       "  </tbody>\n",
       "</table>\n",
       "</div>"
      ],
      "text/plain": [
       "     year   region  driving_license_total          x          y  \\\n",
       "285  2017  Al-Baha                   4131  20.148406  41.466548   \n",
       "206  2017   Najran                  13825  18.451100  46.868850   \n",
       "119  2016   Najran                   2153  18.451100  46.868850   \n",
       "50   2016  Al-Baha                   4614  20.148406  41.466548   \n",
       "27   2017     Hail                  22035  27.400846  41.440696   \n",
       "\n",
       "     accidents_total  deaths_total  injures_total  \n",
       "285           1414.0         134.0         1007.0  \n",
       "206           3193.0         194.0          766.0  \n",
       "119           3235.0         173.0          706.0  \n",
       "50            3618.0         185.0         1227.0  \n",
       "27            9379.0         265.0          773.0  "
      ]
     },
     "execution_count": 60,
     "metadata": {},
     "output_type": "execute_result"
    }
   ],
   "source": [
    "# the lowest mean of Traffic Accidents numbers for years (2016 - 2017)\n",
    "ta_dl_df1.sort_values(by='accidents_total').head()"
   ]
  },
  {
   "cell_type": "markdown",
   "metadata": {},
   "source": [
    "**What are the regions that have more Driving Licenses issued in each year than the year average?**\n",
    "\n",
    "The target column is `driving_license_total`"
   ]
  },
  {
   "cell_type": "code",
   "execution_count": 61,
   "metadata": {},
   "outputs": [
    {
     "data": {
      "text/html": [
       "<div>\n",
       "<style scoped>\n",
       "    .dataframe tbody tr th:only-of-type {\n",
       "        vertical-align: middle;\n",
       "    }\n",
       "\n",
       "    .dataframe tbody tr th {\n",
       "        vertical-align: top;\n",
       "    }\n",
       "\n",
       "    .dataframe thead th {\n",
       "        text-align: right;\n",
       "    }\n",
       "</style>\n",
       "<table border=\"1\" class=\"dataframe\">\n",
       "  <thead>\n",
       "    <tr style=\"text-align: right;\">\n",
       "      <th></th>\n",
       "      <th>year</th>\n",
       "      <th>region</th>\n",
       "      <th>driving_license_total</th>\n",
       "      <th>x</th>\n",
       "      <th>y</th>\n",
       "      <th>accidents_total</th>\n",
       "      <th>deaths_total</th>\n",
       "      <th>injures_total</th>\n",
       "    </tr>\n",
       "  </thead>\n",
       "  <tbody>\n",
       "    <tr>\n",
       "      <th>79</th>\n",
       "      <td>2014</td>\n",
       "      <td>Al-Qaseem</td>\n",
       "      <td>29113</td>\n",
       "      <td>26.196706</td>\n",
       "      <td>43.343000</td>\n",
       "      <td>NaN</td>\n",
       "      <td>NaN</td>\n",
       "      <td>NaN</td>\n",
       "    </tr>\n",
       "    <tr>\n",
       "      <th>184</th>\n",
       "      <td>2014</td>\n",
       "      <td>Assir</td>\n",
       "      <td>29552</td>\n",
       "      <td>19.138785</td>\n",
       "      <td>42.941470</td>\n",
       "      <td>NaN</td>\n",
       "      <td>NaN</td>\n",
       "      <td>NaN</td>\n",
       "    </tr>\n",
       "    <tr>\n",
       "      <th>244</th>\n",
       "      <td>2013</td>\n",
       "      <td>Assir</td>\n",
       "      <td>29730</td>\n",
       "      <td>19.138785</td>\n",
       "      <td>42.941470</td>\n",
       "      <td>NaN</td>\n",
       "      <td>NaN</td>\n",
       "      <td>NaN</td>\n",
       "    </tr>\n",
       "    <tr>\n",
       "      <th>220</th>\n",
       "      <td>2010</td>\n",
       "      <td>Riyadh</td>\n",
       "      <td>31378</td>\n",
       "      <td>23.081434</td>\n",
       "      <td>45.585751</td>\n",
       "      <td>NaN</td>\n",
       "      <td>NaN</td>\n",
       "      <td>NaN</td>\n",
       "    </tr>\n",
       "    <tr>\n",
       "      <th>6</th>\n",
       "      <td>2014</td>\n",
       "      <td>Madinah</td>\n",
       "      <td>31447</td>\n",
       "      <td>24.927535</td>\n",
       "      <td>39.491824</td>\n",
       "      <td>NaN</td>\n",
       "      <td>NaN</td>\n",
       "      <td>NaN</td>\n",
       "    </tr>\n",
       "    <tr>\n",
       "      <th>...</th>\n",
       "      <td>...</td>\n",
       "      <td>...</td>\n",
       "      <td>...</td>\n",
       "      <td>...</td>\n",
       "      <td>...</td>\n",
       "      <td>...</td>\n",
       "      <td>...</td>\n",
       "      <td>...</td>\n",
       "    </tr>\n",
       "    <tr>\n",
       "      <th>62</th>\n",
       "      <td>2015</td>\n",
       "      <td>Makkah</td>\n",
       "      <td>157389</td>\n",
       "      <td>21.628963</td>\n",
       "      <td>41.263690</td>\n",
       "      <td>NaN</td>\n",
       "      <td>NaN</td>\n",
       "      <td>NaN</td>\n",
       "    </tr>\n",
       "    <tr>\n",
       "      <th>59</th>\n",
       "      <td>2013</td>\n",
       "      <td>Riyadh</td>\n",
       "      <td>165994</td>\n",
       "      <td>23.081434</td>\n",
       "      <td>45.585751</td>\n",
       "      <td>NaN</td>\n",
       "      <td>NaN</td>\n",
       "      <td>NaN</td>\n",
       "    </tr>\n",
       "    <tr>\n",
       "      <th>140</th>\n",
       "      <td>2014</td>\n",
       "      <td>Riyadh</td>\n",
       "      <td>194208</td>\n",
       "      <td>23.081434</td>\n",
       "      <td>45.585751</td>\n",
       "      <td>NaN</td>\n",
       "      <td>NaN</td>\n",
       "      <td>NaN</td>\n",
       "    </tr>\n",
       "    <tr>\n",
       "      <th>272</th>\n",
       "      <td>2016</td>\n",
       "      <td>Riyadh</td>\n",
       "      <td>242851</td>\n",
       "      <td>23.081434</td>\n",
       "      <td>45.585751</td>\n",
       "      <td>141736.0</td>\n",
       "      <td>1430.0</td>\n",
       "      <td>4207.0</td>\n",
       "    </tr>\n",
       "    <tr>\n",
       "      <th>271</th>\n",
       "      <td>2017</td>\n",
       "      <td>Riyadh</td>\n",
       "      <td>495307</td>\n",
       "      <td>23.081434</td>\n",
       "      <td>45.585751</td>\n",
       "      <td>99925.0</td>\n",
       "      <td>1399.0</td>\n",
       "      <td>4540.0</td>\n",
       "    </tr>\n",
       "  </tbody>\n",
       "</table>\n",
       "<p>77 rows × 8 columns</p>\n",
       "</div>"
      ],
      "text/plain": [
       "     year     region  driving_license_total          x          y  \\\n",
       "79   2014  Al-Qaseem                  29113  26.196706  43.343000   \n",
       "184  2014      Assir                  29552  19.138785  42.941470   \n",
       "244  2013      Assir                  29730  19.138785  42.941470   \n",
       "220  2010     Riyadh                  31378  23.081434  45.585751   \n",
       "6    2014    Madinah                  31447  24.927535  39.491824   \n",
       "..    ...        ...                    ...        ...        ...   \n",
       "62   2015     Makkah                 157389  21.628963  41.263690   \n",
       "59   2013     Riyadh                 165994  23.081434  45.585751   \n",
       "140  2014     Riyadh                 194208  23.081434  45.585751   \n",
       "272  2016     Riyadh                 242851  23.081434  45.585751   \n",
       "271  2017     Riyadh                 495307  23.081434  45.585751   \n",
       "\n",
       "     accidents_total  deaths_total  injures_total  \n",
       "79               NaN           NaN            NaN  \n",
       "184              NaN           NaN            NaN  \n",
       "244              NaN           NaN            NaN  \n",
       "220              NaN           NaN            NaN  \n",
       "6                NaN           NaN            NaN  \n",
       "..               ...           ...            ...  \n",
       "62               NaN           NaN            NaN  \n",
       "59               NaN           NaN            NaN  \n",
       "140              NaN           NaN            NaN  \n",
       "272         141736.0        1430.0         4207.0  \n",
       "271          99925.0        1399.0         4540.0  \n",
       "\n",
       "[77 rows x 8 columns]"
      ]
     },
     "execution_count": 61,
     "metadata": {},
     "output_type": "execute_result"
    }
   ],
   "source": [
    "driving_licenses_average = ta_dl_df1['driving_license_total'].mean()\n",
    "ta_dl_df1[ta_dl_df1['driving_license_total'] > driving_licenses_average].sort_values(by='driving_license_total')"
   ]
  },
  {
   "cell_type": "code",
   "execution_count": 72,
   "metadata": {},
   "outputs": [
    {
     "name": "stdout",
     "output_type": "stream",
     "text": [
      "There are 77 regions\n"
     ]
    }
   ],
   "source": [
    "driving_licenses_less_than_mean = ta_dl_df1[ta_dl_df1['driving_license_total'] > driving_licenses_average].sort_values(by='driving_license_total')\n",
    "print(f\"There are {driving_licenses_less_than_mean['region'].count()} regions\")"
   ]
  },
  {
   "cell_type": "markdown",
   "metadata": {},
   "source": [
    "**What are the regions that have more Traffic Accidents happened in each year than the year average?**\n",
    "\n",
    "The target column is `accidents_total`"
   ]
  },
  {
   "cell_type": "code",
   "execution_count": 73,
   "metadata": {
    "scrolled": true
   },
   "outputs": [
    {
     "data": {
      "text/html": [
       "<div>\n",
       "<style scoped>\n",
       "    .dataframe tbody tr th:only-of-type {\n",
       "        vertical-align: middle;\n",
       "    }\n",
       "\n",
       "    .dataframe tbody tr th {\n",
       "        vertical-align: top;\n",
       "    }\n",
       "\n",
       "    .dataframe thead th {\n",
       "        text-align: right;\n",
       "    }\n",
       "</style>\n",
       "<table border=\"1\" class=\"dataframe\">\n",
       "  <thead>\n",
       "    <tr style=\"text-align: right;\">\n",
       "      <th></th>\n",
       "      <th>year</th>\n",
       "      <th>region</th>\n",
       "      <th>driving_license_total</th>\n",
       "      <th>x</th>\n",
       "      <th>y</th>\n",
       "      <th>accidents_total</th>\n",
       "      <th>deaths_total</th>\n",
       "      <th>injures_total</th>\n",
       "    </tr>\n",
       "  </thead>\n",
       "  <tbody>\n",
       "    <tr>\n",
       "      <th>88</th>\n",
       "      <td>2017</td>\n",
       "      <td>Eastern Region</td>\n",
       "      <td>126816</td>\n",
       "      <td>23.288331</td>\n",
       "      <td>50.147830</td>\n",
       "      <td>81433.0</td>\n",
       "      <td>963.0</td>\n",
       "      <td>4073.0</td>\n",
       "    </tr>\n",
       "    <tr>\n",
       "      <th>271</th>\n",
       "      <td>2017</td>\n",
       "      <td>Riyadh</td>\n",
       "      <td>495307</td>\n",
       "      <td>23.081434</td>\n",
       "      <td>45.585751</td>\n",
       "      <td>99925.0</td>\n",
       "      <td>1399.0</td>\n",
       "      <td>4540.0</td>\n",
       "    </tr>\n",
       "    <tr>\n",
       "      <th>235</th>\n",
       "      <td>2016</td>\n",
       "      <td>Eastern Region</td>\n",
       "      <td>142307</td>\n",
       "      <td>23.288331</td>\n",
       "      <td>50.147830</td>\n",
       "      <td>101619.0</td>\n",
       "      <td>1113.0</td>\n",
       "      <td>4893.0</td>\n",
       "    </tr>\n",
       "    <tr>\n",
       "      <th>143</th>\n",
       "      <td>2016</td>\n",
       "      <td>Makkah</td>\n",
       "      <td>136055</td>\n",
       "      <td>21.628963</td>\n",
       "      <td>41.263690</td>\n",
       "      <td>134838.0</td>\n",
       "      <td>2243.0</td>\n",
       "      <td>12383.0</td>\n",
       "    </tr>\n",
       "    <tr>\n",
       "      <th>272</th>\n",
       "      <td>2016</td>\n",
       "      <td>Riyadh</td>\n",
       "      <td>242851</td>\n",
       "      <td>23.081434</td>\n",
       "      <td>45.585751</td>\n",
       "      <td>141736.0</td>\n",
       "      <td>1430.0</td>\n",
       "      <td>4207.0</td>\n",
       "    </tr>\n",
       "    <tr>\n",
       "      <th>142</th>\n",
       "      <td>2017</td>\n",
       "      <td>Makkah</td>\n",
       "      <td>142487</td>\n",
       "      <td>21.628963</td>\n",
       "      <td>41.263690</td>\n",
       "      <td>145541.0</td>\n",
       "      <td>1641.0</td>\n",
       "      <td>10623.0</td>\n",
       "    </tr>\n",
       "  </tbody>\n",
       "</table>\n",
       "</div>"
      ],
      "text/plain": [
       "     year          region  driving_license_total          x          y  \\\n",
       "88   2017  Eastern Region                 126816  23.288331  50.147830   \n",
       "271  2017          Riyadh                 495307  23.081434  45.585751   \n",
       "235  2016  Eastern Region                 142307  23.288331  50.147830   \n",
       "143  2016          Makkah                 136055  21.628963  41.263690   \n",
       "272  2016          Riyadh                 242851  23.081434  45.585751   \n",
       "142  2017          Makkah                 142487  21.628963  41.263690   \n",
       "\n",
       "     accidents_total  deaths_total  injures_total  \n",
       "88           81433.0         963.0         4073.0  \n",
       "271          99925.0        1399.0         4540.0  \n",
       "235         101619.0        1113.0         4893.0  \n",
       "143         134838.0        2243.0        12383.0  \n",
       "272         141736.0        1430.0         4207.0  \n",
       "142         145541.0        1641.0        10623.0  "
      ]
     },
     "execution_count": 73,
     "metadata": {},
     "output_type": "execute_result"
    }
   ],
   "source": [
    "traffic_accidents_average = ta_dl_df1['accidents_total'].mean()\n",
    "ta_dl_df1[ta_dl_df1['accidents_total'] > traffic_accidents_average].sort_values(by='accidents_total')"
   ]
  },
  {
   "cell_type": "code",
   "execution_count": 74,
   "metadata": {},
   "outputs": [
    {
     "name": "stdout",
     "output_type": "stream",
     "text": [
      "There are 3 regions\n"
     ]
    }
   ],
   "source": [
    "print(f'There are 3 regions')"
   ]
  },
  {
   "cell_type": "markdown",
   "metadata": {},
   "source": [
    "## Visualize the data\n",
    "\n",
    "There's not a magic bullet recommendation for the right number of plots to understand a given dataset, but visualizing your data is *always* a good idea. Not only does it allow you to quickly convey your findings (even if you have a non-technical audience), it will often reveal trends in your data that escaped you when you were looking only at numbers.\n",
    "\n",
    "Some recommendations on plotting:\n",
    "- Plots have titles\n",
    "- Plots have axis labels\n",
    "- Plots have appropriate tick labels\n",
    "- All text is legible in a plot\n",
    "- Plots demonstrate meaningful and valid relationships\n",
    "- Plots are interpreted to aid understanding\n",
    "\n",
    "There is such a thing as too many plots, and there are a *lot* of bad plots. You might make some! (But hopefully not with the guided prompts below)."
   ]
  },
  {
   "cell_type": "markdown",
   "metadata": {},
   "source": [
    "#### Use Seaborn's heatmap with pandas `.corr()` to visualize correlations between all numeric features\n",
    "\n",
    "Heatmaps are generally not appropriate for presentations, and should often be excluded from reports as they can be visually overwhelming. **However**, they can be extremely useful in identify relationships of potential interest (as well as identifying potential collinearity before modeling).\n",
    "\n",
    "*example*:\n",
    "```python\n",
    "sns.heatmap(df.corr())\n",
    "```\n",
    "\n",
    "Please take time to format your output, adding a title. Look through some of the additional arguments and options. (Axis labels aren't really necessary, as long as the title is informative)."
   ]
  },
  {
   "cell_type": "code",
   "execution_count": 75,
   "metadata": {},
   "outputs": [
    {
     "data": {
      "image/png": "[encoded data removed]",
      "text/plain": [
       "<Figure size 1080x720 with 2 Axes>"
      ]
     },
     "metadata": {
      "needs_background": "light"
     },
     "output_type": "display_data"
    }
   ],
   "source": [
    "plt.figure(figsize=(15,10))\n",
    "cm = ta_dl_df.corr()\n",
    "sns.set(font_scale=1.5)\n",
    "\n",
    "sns.heatmap(data=cm,\n",
    "           cbar=True,\n",
    "           annot=True,\n",
    "           square=True,\n",
    "           fmt = '0.2f',\n",
    "           annot_kws={'size':15},\n",
    "           )\n",
    "\n",
    "plt.title('Traffic Accidents and Driving License Correlations')\n",
    "plt.show()\n"
   ]
  },
  {
   "cell_type": "markdown",
   "metadata": {},
   "source": [
    "**Summarize Corrlation **\n",
    "- There is a highly correlation between `driving_license_total, accidents_total, deathes_total, injures_total` this logical\n",
    "- There is no correlation between year and other columns because there is missing columns `accidents_total, deathes_total, injures_total` in driving licesnes data"
   ]
  },
  {
   "cell_type": "markdown",
   "metadata": {},
   "source": [
    "#### Define a custom function to subplot histograms\n",
    "\n",
    "We should write a function that will take the names of 2+ columns and subplot histograms. While you can use pandas plotting or Seaborn here, matplotlib gives you greater control over all aspects of your plots.\n",
    "\n",
    "[Helpful Link for Plotting Multiple Figures](https://matplotlib.org/users/pyplot_tutorial.html#working-with-multiple-figures-and-axes)\n",
    "\n",
    "Here's some starter code:"
   ]
  },
  {
   "cell_type": "markdown",
   "metadata": {},
   "source": [
    "#### Plot and interpret histograms \n",
    "For each of the following:\n",
    "- Driving Licenses number\n",
    "- Traffic Accidents number\n",
    "\n",
    "Please plot two additional histograms that will help with your understanding of the data"
   ]
  },
  {
   "cell_type": "code",
   "execution_count": 78,
   "metadata": {},
   "outputs": [],
   "source": [
    "# Code\n",
    "def subplot_histograms(dataframe, list_of_columns, list_of_titles, list_of_xlabels):\n",
    "    nrows = int(np.ceil(len(list_of_columns)/2)) # Makes sure you have enough rows\n",
    "    fig, ax = plt.subplots(nrows=nrows, ncols=2, figsize=(15,5)) # You'll want to specify your figsize\n",
    "    ax = ax.ravel() # Ravel turns a matrix into a vector, which is easier to iterate\n",
    "    for i, column in enumerate(list_of_columns): # Gives us an index value to get into all our lists\n",
    "        ax[i].hist(dataframe[column]); # feel free to add more settings\n",
    "        ax[i].set_title(lst_titles[i]) # set title name\n",
    "        ax[i].set_xlabel(lst_xlabels[i]) # set x label name\n",
    "        ax[i].set_ylabel('Frequent') # set y label name\n",
    "        ax[i].grid(True)"
   ]
  },
  {
   "cell_type": "code",
   "execution_count": 79,
   "metadata": {},
   "outputs": [
    {
     "data": {
      "image/png": "[encoded data removed]",
      "text/plain": [
       "<Figure size 1080x360 with 2 Axes>"
      ]
     },
     "metadata": {},
     "output_type": "display_data"
    }
   ],
   "source": [
    "lst_cols = ['driving_license_total', 'accidents_total']\n",
    "lst_titles = ['Driving Licenses Total Distribution', 'Accidents Total Distribution']\n",
    "lst_xlabels = ['Driving Licenses Total', 'Accidents Total'] \n",
    "\n",
    "subplot_histograms( ta_dl_df1, lst_cols, lst_titles,lst_xlabels)"
   ]
  },
  {
   "cell_type": "markdown",
   "metadata": {},
   "source": [
    "There are a high lefft skewness in `Driving Licenses Total` and moderate skewness in `Accident Total`."
   ]
  },
  {
   "cell_type": "markdown",
   "metadata": {},
   "source": [
    "#### Plot and interpret scatter plots\n",
    "\n",
    "For each of the following:\n",
    "- Driving Licenses vs. Traffic Accidents for 2017\n",
    "- Driving Licenses vs. Traffic Accidents for 2016\n",
    "- Driving Licenses for 2016 vs 2017\n",
    "- Traffic Accidents for 2016 vs 2017\n",
    "\n",
    "Plot the two variables against each other using matplotlib or Seaborn\n",
    "\n",
    "Your plots should show:\n",
    "- Two clearly labeled axes\n",
    "- A proper title\n",
    "- Using colors and symbols that are clear and unmistakable\n",
    "\n",
    "**Feel free to write a custom function, and subplot if you'd like.** Functions save both time and space.\n"
   ]
  },
  {
   "cell_type": "code",
   "execution_count": 80,
   "metadata": {
    "scrolled": true
   },
   "outputs": [],
   "source": [
    "# Driving Licenses vs. Traffic Accidents for 2017\n",
    "criteria1 = ta_dl_df1[ta_dl_df1['year'] == 2017][['driving_license_total', 'accidents_total']].reset_index(drop=True)\n",
    "\n",
    "# Driving Licenses vs. Traffic Accidents for 2016\n",
    "criteria2 = ta_dl_df1[ta_dl_df1['year'] == 2016][['driving_license_total', 'accidents_total']].reset_index(drop=True)\n",
    "\n",
    "# Driving Licenses for 2016 vs 2017\n",
    "criteria3 = pd.concat([\n",
    "    criteria2['driving_license_total'],\n",
    "    criteria1['driving_license_total'],\n",
    "], axis=1)\n",
    "\n",
    "# Traffic Accidents for 2016 vs 2017\n",
    "criteria4 = pd.concat([\n",
    "    criteria2['accidents_total'],\n",
    "    criteria1['accidents_total'],\n",
    "], axis=1)\n",
    "\n",
    "# lists of all criterias dataframe\n",
    "lst_df = [criteria1, criteria2, criteria3, criteria4]"
   ]
  },
  {
   "cell_type": "code",
   "execution_count": 81,
   "metadata": {
    "scrolled": true
   },
   "outputs": [],
   "source": [
    "lst_titles = [\n",
    "    'Driving Licenses vs Traffic Accidents for 2017',\n",
    "    'Driving Licenses vs Traffic Accidents for 2016',\n",
    "    'Driving Licenses for 2016 vs 2017',\n",
    "    'Traffic Accidents for 2016 vs 2017'\n",
    "]\n",
    "\n",
    "lst_xlabels =[\n",
    "    'Driving Licenses 2017',\n",
    "    'Driving Licenses 2016',\n",
    "    'Driving Licenses 2016',\n",
    "    'Traffic Accidents 2016'\n",
    "]\n",
    "\n",
    "lst_ylabels = [\n",
    "    'Traffic Accidents 2017',\n",
    "    'Traffic Accidents 2016',\n",
    "    'Driving Licenses 2017',\n",
    "    'Traffic Accidents 2017'\n",
    "]\n"
   ]
  },
  {
   "cell_type": "code",
   "execution_count": 82,
   "metadata": {},
   "outputs": [],
   "source": [
    "def subplot_sccater(lst_df, lst_titles, lst_xlabels, lst_ylabels):\n",
    "    fig, ax = plt.subplots(2,2, figsize=(14,8), constrained_layout=True) # set number of rows and columns of subplots\n",
    "    ax = ax.ravel() # Ravel turns a matrix into a vector, which is easier to iterate\n",
    "    for i in range(len(lst_df)): # give us index each time to set subplot position\n",
    "        sns.scatterplot(x=lst_df[i].iloc[:,0], y=lst_df[i].iloc[:,1], ax=ax[i]) # plot sccater with with subplot index\n",
    "        ax[i].set_title(lst_titles[i], fontsize=16) # set title name for each subplot index\n",
    "        ax[i].set_xlabel(lst_xlabels[i], fontsize=12) # set x label name for each subplot index\n",
    "        ax[i].set_ylabel(lst_ylabels[i], fontsize=12) # set y lable name for each subplot index\n",
    "        "
   ]
  },
  {
   "cell_type": "code",
   "execution_count": 83,
   "metadata": {},
   "outputs": [
    {
     "data": {
      "image/png": "[encoded data removed]",
      "text/plain": [
       "<Figure size 1008x576 with 4 Axes>"
      ]
     },
     "metadata": {},
     "output_type": "display_data"
    }
   ],
   "source": [
    "subplot_sccater(lst_df, lst_titles, lst_xlabels, lst_ylabels)"
   ]
  },
  {
   "cell_type": "markdown",
   "metadata": {},
   "source": [
    "There is not a clear picture give the correlation trend because we need more values. we can say most of values in the the first quarter and dirction slope to Traffic Accident in 2016 and 2017"
   ]
  },
  {
   "cell_type": "markdown",
   "metadata": {},
   "source": [
    "#### Plot and interpret boxplots\n",
    "\n",
    "For each numeric variable in the dataframe create a boxplot using Seaborn. Boxplots demonstrate central tendency and spread in variables. In a certain sense, these are somewhat redundant with histograms, but you may be better able to identify clear outliers or differences in IQR, etc.\n",
    "\n",
    "Multiple values can be plotted to a single boxplot as long as they are of the same relative scale (meaning they have similar min/max values).\n",
    "\n",
    "Each boxplot should:\n",
    "- Only include variables of a similar scale\n",
    "- Have clear labels for each variable\n",
    "- Have appropriate titles and labels"
   ]
  },
  {
   "cell_type": "code",
   "execution_count": 88,
   "metadata": {},
   "outputs": [],
   "source": [
    "df = ta_dl_df1[['driving_license_total', 'accidents_total', 'deaths_total', 'injures_total']]\n",
    "\n",
    "lst_titles = [\n",
    "    'Distribution of driving license total for different years', \n",
    "    'Distribution of accidents total for different years', \n",
    "    'Distribution deaths total for different years', \n",
    "    'Distribution injures_total for different years'\n",
    "]\n",
    "\n",
    "lst_xlabels = [\n",
    "    ' Driving license total values', \n",
    "    ' Accidents total values', \n",
    "    ' Deaths total values', \n",
    "    ' Injures total values'\n",
    "]\n",
    "\n",
    "lst_ylabels = [\n",
    "    'Driving license total', \n",
    "    'Accidents total', \n",
    "    'Deaths total', \n",
    "    'Injures total'\n",
    "]"
   ]
  },
  {
   "cell_type": "code",
   "execution_count": 89,
   "metadata": {
    "scrolled": false
   },
   "outputs": [],
   "source": [
    "# Code\n",
    "def subplot_box(dataframe, list_titles, list_xlabels, list_ylabels):\n",
    "    fig, ax = plt.subplots(2,2, figsize=(12,8), constrained_layout=True) # set number of rows and columns of subplots\n",
    "    ax = ax.ravel() # Ravel turns a matrix into a vector, which is easier to iterate\n",
    "    for i in range(4): # give us index each time to set subplot position\n",
    "        sns.boxplot(x=df.iloc[:,i], ax=ax[i]) # plot sccater with with subplot index\n",
    "        ax[i].set_title(lst_titles[i], fontsize=16) # set title name for each subplot index\n",
    "        ax[i].set_xlabel(lst_xlabels[i], fontsize=12) # set x label name for each subplot index\n",
    "        ax[i].set_ylabel(lst_ylabels[i], fontsize=12) # set y lable name for each subplot index"
   ]
  },
  {
   "cell_type": "code",
   "execution_count": 90,
   "metadata": {},
   "outputs": [
    {
     "data": {
      "image/png": "[encoded data removed]",
      "text/plain": [
       "<Figure size 864x576 with 4 Axes>"
      ]
     },
     "metadata": {},
     "output_type": "display_data"
    }
   ],
   "source": [
    "subplot_box(df, lst_titles, lst_xlabels, lst_ylabels)"
   ]
  },
  {
   "cell_type": "markdown",
   "metadata": {},
   "source": [
    "All figures have outliers but with different rates, and this rate of outliers drop from first grapth `driving_licenses_total` toward last graph `injures_total`"
   ]
  },
  {
   "cell_type": "markdown",
   "metadata": {},
   "source": [
    "#### Feel free to do additional plots below\n",
    "*(do research and choose your own chart types & variables)*\n",
    "\n",
    "Are there any additional trends or relationships you haven't explored? Was there something interesting you saw that you'd like to dive further into? It's likely that there are a few more plots you might want to generate to support your narrative and recommendations that you are building toward. **As always, make sure you're interpreting your plots as you go**."
   ]
  },
  {
   "cell_type": "markdown",
   "metadata": {},
   "source": [
    "The target columns are `region` and `driving_licenses_total`"
   ]
  },
  {
   "cell_type": "code",
   "execution_count": 99,
   "metadata": {},
   "outputs": [],
   "source": [
    "driving_licenses_total_mean_by_region = ta_dl_df1.groupby(by='region').mean()['driving_license_total']"
   ]
  },
  {
   "cell_type": "code",
   "execution_count": 100,
   "metadata": {},
   "outputs": [],
   "source": [
    "driving_licenses_total_mean_by_region = driving_licenses_total_mean_by_region.sort_values()"
   ]
  },
  {
   "cell_type": "code",
   "execution_count": 101,
   "metadata": {
    "scrolled": false
   },
   "outputs": [
    {
     "data": {
      "image/png": "[encoded data removed]",
      "text/plain": [
       "<Figure size 1152x504 with 1 Axes>"
      ]
     },
     "metadata": {},
     "output_type": "display_data"
    }
   ],
   "source": [
    "plt.figure(figsize=(16,7))\n",
    "\n",
    "x = driving_licenses_total_mean_by_region.index\n",
    "y = driving_licenses_total_mean_by_region.values\n",
    "\n",
    "sns.barplot(x=x, y=y,)\n",
    "\n",
    "plt.title('Driving Licenses Mean for all Regions since 1993 to 2017', fontsize=16)\n",
    "plt.xlabel('Regions', fontsize=12,)\n",
    "plt.xticks(rotation=45)\n",
    "plt.ylabel('Driving Licenses Mean since 1993 to 2017', fontsize=12)\n",
    "plt.grid();"
   ]
  },
  {
   "cell_type": "markdown",
   "metadata": {},
   "source": [
    "The bar chart illustaes driving licenses total average since 1993 to 2017 for 13 regions. The majorty were at three regions **Makkah, Riyadh and Eastern Region** and this logical because they have most population of Saudi Arabia then came them **Al_Qassem and Assir around 22000 and 20000 liceneses** While other regions were **under 20000 licenses.**"
   ]
  },
  {
   "cell_type": "code",
   "execution_count": 210,
   "metadata": {},
   "outputs": [
    {
     "data": {
      "text/plain": [
       "['year',\n",
       " 'driving_license_total',\n",
       " 'accidents_total',\n",
       " 'deaths_total',\n",
       " 'injures_total']"
      ]
     },
     "execution_count": 210,
     "metadata": {},
     "output_type": "execute_result"
    }
   ],
   "source": [
    "num"
   ]
  },
  {
   "cell_type": "markdown",
   "metadata": {},
   "source": [
    "The target columns as x-axis is `region` and y-axis `driving_license_total` in the last two years **2016 and 2017**"
   ]
  },
  {
   "cell_type": "code",
   "execution_count": 211,
   "metadata": {},
   "outputs": [
    {
     "data": {
      "image/png": "[encoded data removed]",
      "text/plain": [
       "<Figure size 1080x432 with 2 Axes>"
      ]
     },
     "metadata": {},
     "output_type": "display_data"
    }
   ],
   "source": [
    "num = [col for col in ta_dl_df.columns if isinstance(ta_dl_df[col][0], np.int64)] # numerical columns\n",
    "cat = [col for col in ta_dl_df.columns if isinstance(ta_dl_df[col][0], str )] # categorical columns \n",
    "\n",
    "fig, ax = plt.subplots(1, 2, figsize=(15,6), constrained_layout=True)\n",
    "\n",
    "x1 = ta_dl_df[ta_dl_df[num[0]] == 2016][cat[0]].sort_values()\n",
    "y1 = ta_dl_df[ta_dl_df[num[0]] == 2016][num[1]]\n",
    "\n",
    "x2 = ta_dl_df[ta_dl_df[num[0]] == 2017][cat[0]].sort_values()\n",
    "y2 = ta_dl_df[ta_dl_df[num[0]] == 2017][num[1]]\n",
    "\n",
    "ax[0] = sns.barplot(x=x1, y=y1, data=ta_dl_df, ax=ax[0])\n",
    "ax[1] = sns.barplot(x=x2, y=y2, data=ta_dl_df, ax=ax[1])\n",
    "\n",
    "ax[0].set_xticklabels(ax[0].get_xticklabels(),rotation=45,fontsize=12)\n",
    "ax[1].set_xticklabels(ax[0].get_xticklabels(),rotation=45,fontsize=12)\n",
    "\n",
    "plt.show()"
   ]
  },
  {
   "cell_type": "markdown",
   "metadata": {},
   "source": [
    "Driving licenses total raise double in 2017 and this logical because the population size increase year after year."
   ]
  },
  {
   "cell_type": "markdown",
   "metadata": {},
   "source": [
    "--------------------------------"
   ]
  },
  {
   "cell_type": "markdown",
   "metadata": {},
   "source": [
    "The target columns as x-axis is `region` and y-axis `accidents_total` in the last two years **2016 and 2017**"
   ]
  },
  {
   "cell_type": "code",
   "execution_count": 207,
   "metadata": {},
   "outputs": [
    {
     "data": {
      "image/png": "[encoded data removed]",
      "text/plain": [
       "<Figure size 1080x432 with 2 Axes>"
      ]
     },
     "metadata": {},
     "output_type": "display_data"
    }
   ],
   "source": [
    "num = [col for col in ta_dl_df.columns if isinstance(ta_dl_df[col][0], np.int64)] # numerical columns\n",
    "cat = [col for col in ta_dl_df.columns if isinstance(ta_dl_df[col][0], str )] # categorical columns \n",
    "\n",
    "fig, ax = plt.subplots(1, 2, figsize=(15,6), constrained_layout=True)\n",
    "\n",
    "x1 = ta_dl_df[ta_dl_df[num[0]] == 2016][cat[0]].sort_values()\n",
    "y1 = ta_dl_df[ta_dl_df[num[0]] == 2016][num[2]]\n",
    "\n",
    "x2 = ta_dl_df[ta_dl_df[num[0]] == 2017][cat[0]].sort_values()\n",
    "y2 = ta_dl_df[ta_dl_df[num[0]] == 2017][num[2]]\n",
    "\n",
    "ax[0] = sns.barplot(x=x1, y=y1, data=ta_dl_df, ax=ax[0])\n",
    "ax[1] = sns.barplot(x=x2, y=y2, data=ta_dl_df, ax=ax[1])\n",
    "\n",
    "ax[0].set_xticklabels(ax[0].get_xticklabels(),rotation=45,fontsize=12)\n",
    "ax[1].set_xticklabels(ax[0].get_xticklabels(),rotation=45,fontsize=12)\n",
    "\n",
    "plt.show()"
   ]
  },
  {
   "cell_type": "markdown",
   "metadata": {},
   "source": [
    "Most of accidnts total droped by 25% or less that in 2017 except Makah region raised by 8% at 145000 accidents total."
   ]
  },
  {
   "cell_type": "markdown",
   "metadata": {},
   "source": [
    "-----------------------"
   ]
  },
  {
   "cell_type": "markdown",
   "metadata": {},
   "source": [
    "The target columns as x-axis is `region` and y-axis `deaths_total` in the last two years **2016 and 2017**"
   ]
  },
  {
   "cell_type": "code",
   "execution_count": 208,
   "metadata": {},
   "outputs": [
    {
     "data": {
      "image/png": "[encoded data removed]",
      "text/plain": [
       "<Figure size 1080x432 with 2 Axes>"
      ]
     },
     "metadata": {},
     "output_type": "display_data"
    }
   ],
   "source": [
    "num = [col for col in ta_dl_df.columns if isinstance(ta_dl_df[col][0], np.int64)] # numerical columns\n",
    "cat = [col for col in ta_dl_df.columns if isinstance(ta_dl_df[col][0], str )] # categorical columns \n",
    "\n",
    "fig, ax = plt.subplots(1, 2, figsize=(15,6), constrained_layout=True)\n",
    "\n",
    "x1 = ta_dl_df[ta_dl_df[num[0]] == 2016][cat[0]].sort_values()\n",
    "y1 = ta_dl_df[ta_dl_df[num[0]] == 2016][num[3]]\n",
    "\n",
    "x2 = ta_dl_df[ta_dl_df[num[0]] == 2017][cat[0]].sort_values()\n",
    "y2 = ta_dl_df[ta_dl_df[num[0]] == 2017][num[3]]\n",
    "\n",
    "ax[0] = sns.barplot(x=x1, y=y1, data=ta_dl_df, ax=ax[0])\n",
    "ax[1] = sns.barplot(x=x2, y=y2, data=ta_dl_df, ax=ax[1])\n",
    "\n",
    "ax[0].set_xticklabels(ax[0].get_xticklabels(),rotation=45,fontsize=12)\n",
    "ax[1].set_xticklabels(ax[0].get_xticklabels(),rotation=45,fontsize=12)\n",
    "\n",
    "plt.show()"
   ]
  },
  {
   "cell_type": "markdown",
   "metadata": {},
   "source": [
    "Deaths total pecent dropped by 50% or less than that in all regions."
   ]
  },
  {
   "cell_type": "markdown",
   "metadata": {},
   "source": [
    "-----------------------------------"
   ]
  },
  {
   "cell_type": "markdown",
   "metadata": {},
   "source": [
    "The target columns as x-axis is `region` and y-axis `injuries_total` in latest two years **2016 and 2017**"
   ]
  },
  {
   "cell_type": "code",
   "execution_count": 209,
   "metadata": {},
   "outputs": [
    {
     "data": {
      "image/png": "[encoded data removed]",
      "text/plain": [
       "<Figure size 1080x432 with 2 Axes>"
      ]
     },
     "metadata": {},
     "output_type": "display_data"
    }
   ],
   "source": [
    "num = [col for col in ta_dl_df.columns if isinstance(ta_dl_df[col][0], np.int64)] # numerical columns\n",
    "cat = [col for col in ta_dl_df.columns if isinstance(ta_dl_df[col][0], str )] # categorical columns \n",
    "\n",
    "fig, ax = plt.subplots(1, 2, figsize=(15,6), constrained_layout=True)\n",
    "\n",
    "x1 = ta_dl_df[ta_dl_df[num[0]] == 2016][cat[0]].sort_values()\n",
    "y1 = ta_dl_df[ta_dl_df[num[0]] == 2016][num[4]]\n",
    "\n",
    "x2 = ta_dl_df[ta_dl_df[num[0]] == 2017][cat[0]].sort_values()\n",
    "y2 = ta_dl_df[ta_dl_df[num[0]] == 2017][num[4]]\n",
    "\n",
    "ax[0] = sns.barplot(x=x1, y=y1, data=ta_dl_df, ax=ax[0])\n",
    "ax[1] = sns.barplot(x=x2, y=y2, data=ta_dl_df, ax=ax[1])\n",
    "\n",
    "ax[0].set_xticklabels(ax[0].get_xticklabels(),rotation=45,fontsize=12)\n",
    "ax[1].set_xticklabels(ax[0].get_xticklabels(),rotation=45,fontsize=12)\n",
    "\n",
    "plt.show()"
   ]
  },
  {
   "cell_type": "markdown",
   "metadata": {},
   "source": [
    "Injuries total percent dropped by 10% or less than that in all regions"
   ]
  },
  {
   "cell_type": "markdown",
   "metadata": {},
   "source": [
    "Overall, we can say accidents, deaths and injuries total dropped in all regions except Makkah, so that accidents rates raised by 8% and seem that most of these accidents did not increase deaths and injuries total as we notced. Stilling driving licenses total raised year after year and this returns to populaton growth."
   ]
  },
  {
   "cell_type": "markdown",
   "metadata": {},
   "source": [
    "## Descriptive and Inferential Statistics"
   ]
  },
  {
   "cell_type": "markdown",
   "metadata": {},
   "source": [
    "#### Summarizing Distributions\n",
    "\n",
    "Above, we used pandas `describe` to provide quick summary statistics of our numeric columns. We also demonstrated many visual relationships.\n",
    "\n",
    "As data scientists, having a complete understanding of data is imperative prior to modeling.\n",
    "\n",
    "While we will continue to build our analytic tools, we know that measures of *central tendency*, *spread*, and *shape/skewness* provide a quick summary of distributions.\n",
    "\n",
    "For each variable in your data, summarize the underlying distributions (in words & statistics)\n",
    " - Be thorough in your verbal description of these distributions.\n",
    " - Be sure to back up these summaries with statistics."
   ]
  },
  {
   "cell_type": "code",
   "execution_count": 423,
   "metadata": {
    "scrolled": true
   },
   "outputs": [
    {
     "data": {
      "text/html": [
       "<div>\n",
       "<style scoped>\n",
       "    .dataframe tbody tr th:only-of-type {\n",
       "        vertical-align: middle;\n",
       "    }\n",
       "\n",
       "    .dataframe tbody tr th {\n",
       "        vertical-align: top;\n",
       "    }\n",
       "\n",
       "    .dataframe thead th {\n",
       "        text-align: right;\n",
       "    }\n",
       "</style>\n",
       "<table border=\"1\" class=\"dataframe\">\n",
       "  <thead>\n",
       "    <tr style=\"text-align: right;\">\n",
       "      <th></th>\n",
       "      <th>year</th>\n",
       "      <th>driving_license_total</th>\n",
       "      <th>x</th>\n",
       "      <th>y</th>\n",
       "      <th>accidents_total</th>\n",
       "      <th>deaths_total</th>\n",
       "      <th>injures_total</th>\n",
       "    </tr>\n",
       "  </thead>\n",
       "  <tbody>\n",
       "    <tr>\n",
       "      <th>count</th>\n",
       "      <td>325.000000</td>\n",
       "      <td>325.000000</td>\n",
       "      <td>325.000000</td>\n",
       "      <td>325.000000</td>\n",
       "      <td>26.000000</td>\n",
       "      <td>26.000000</td>\n",
       "      <td>26.000000</td>\n",
       "    </tr>\n",
       "    <tr>\n",
       "      <th>mean</th>\n",
       "      <td>2005.000000</td>\n",
       "      <td>28915.347692</td>\n",
       "      <td>23.810447</td>\n",
       "      <td>42.602789</td>\n",
       "      <td>38225.692308</td>\n",
       "      <td>635.384615</td>\n",
       "      <td>2743.038462</td>\n",
       "    </tr>\n",
       "    <tr>\n",
       "      <th>std</th>\n",
       "      <td>7.222222</td>\n",
       "      <td>47419.058819</td>\n",
       "      <td>4.197987</td>\n",
       "      <td>3.254196</td>\n",
       "      <td>46493.705035</td>\n",
       "      <td>549.783381</td>\n",
       "      <td>2922.641127</td>\n",
       "    </tr>\n",
       "    <tr>\n",
       "      <th>min</th>\n",
       "      <td>1993.000000</td>\n",
       "      <td>915.000000</td>\n",
       "      <td>17.207231</td>\n",
       "      <td>37.259858</td>\n",
       "      <td>1414.000000</td>\n",
       "      <td>112.000000</td>\n",
       "      <td>374.000000</td>\n",
       "    </tr>\n",
       "    <tr>\n",
       "      <th>25%</th>\n",
       "      <td>1999.000000</td>\n",
       "      <td>4846.000000</td>\n",
       "      <td>20.148406</td>\n",
       "      <td>41.263690</td>\n",
       "      <td>10276.250000</td>\n",
       "      <td>241.250000</td>\n",
       "      <td>923.000000</td>\n",
       "    </tr>\n",
       "    <tr>\n",
       "      <th>50%</th>\n",
       "      <td>2005.000000</td>\n",
       "      <td>10267.000000</td>\n",
       "      <td>23.288331</td>\n",
       "      <td>41.817119</td>\n",
       "      <td>16050.500000</td>\n",
       "      <td>415.500000</td>\n",
       "      <td>1618.500000</td>\n",
       "    </tr>\n",
       "    <tr>\n",
       "      <th>75%</th>\n",
       "      <td>2011.000000</td>\n",
       "      <td>25423.000000</td>\n",
       "      <td>27.400846</td>\n",
       "      <td>43.343000</td>\n",
       "      <td>30981.250000</td>\n",
       "      <td>929.250000</td>\n",
       "      <td>3784.000000</td>\n",
       "    </tr>\n",
       "    <tr>\n",
       "      <th>max</th>\n",
       "      <td>2017.000000</td>\n",
       "      <td>495307.000000</td>\n",
       "      <td>30.197075</td>\n",
       "      <td>50.147830</td>\n",
       "      <td>145541.000000</td>\n",
       "      <td>2243.000000</td>\n",
       "      <td>12383.000000</td>\n",
       "    </tr>\n",
       "  </tbody>\n",
       "</table>\n",
       "</div>"
      ],
      "text/plain": [
       "              year  driving_license_total           x           y  \\\n",
       "count   325.000000             325.000000  325.000000  325.000000   \n",
       "mean   2005.000000           28915.347692   23.810447   42.602789   \n",
       "std       7.222222           47419.058819    4.197987    3.254196   \n",
       "min    1993.000000             915.000000   17.207231   37.259858   \n",
       "25%    1999.000000            4846.000000   20.148406   41.263690   \n",
       "50%    2005.000000           10267.000000   23.288331   41.817119   \n",
       "75%    2011.000000           25423.000000   27.400846   43.343000   \n",
       "max    2017.000000          495307.000000   30.197075   50.147830   \n",
       "\n",
       "       accidents_total  deaths_total  injures_total  \n",
       "count        26.000000     26.000000      26.000000  \n",
       "mean      38225.692308    635.384615    2743.038462  \n",
       "std       46493.705035    549.783381    2922.641127  \n",
       "min        1414.000000    112.000000     374.000000  \n",
       "25%       10276.250000    241.250000     923.000000  \n",
       "50%       16050.500000    415.500000    1618.500000  \n",
       "75%       30981.250000    929.250000    3784.000000  \n",
       "max      145541.000000   2243.000000   12383.000000  "
      ]
     },
     "execution_count": 423,
     "metadata": {},
     "output_type": "execute_result"
    }
   ],
   "source": [
    "ta_dl_df1.describe()"
   ]
  },
  {
   "cell_type": "markdown",
   "metadata": {},
   "source": [
    "Answers: we have a gap in this data after we merged together because there are three columns did not find in `Driving Licesnes data` **accidents_total, deaths_total and injures_total** but we focused on the last two years 2016 and 2017 and describe them in visualizing section.\n",
    "\n",
    "let us begin summrizing important statistics for some columns:\n",
    "- driving_license_total\n",
    "\n",
    "The average value was around 29,000 licenses yearly,  and standard deviation was around 47,500 higher than the average. It means number of licenses raised as clearly type in the last ten years and this logical, so that reached the maximum values around 49,600 licenses yearly in 2017. One more thing, there was a left skewness and this appear when we look the high difference between minimum, maximum and median values, the median was near of minimumn not be in the middle value. \n",
    "\n",
    "- accidents_total\n",
    "\n",
    "the number of values were 26 of 325 observations. These values were limited for 2016 and 2017, the average value was 38,200 accidents yearly and standard deviation was around 46,500 accidetns haigher thatn the average. It deos not meane a number of accidents total were raisied from 2016 to 2017 because we made sure that before the accidents total dropped except Makkah may be that a reason but one more thing I would menstion about the value of standard deviation and why was it higher than mean? I think there was a high variation in accidents total from region to region so that it gave us high standard deviation as well as there was left skewneess.\n",
    "\n",
    "- deaths_total and injuries_total\n",
    "\n",
    "overall, there was a left skewness however did not large wherease percent of deaths average total to accidents average total was around 2% while was higher in injuries average total around 7%  "
   ]
  },
  {
   "cell_type": "markdown",
   "metadata": {},
   "source": [
    "#### We generally assuming that data we sample from a population will be normally distributed. Do we observe this trend?"
   ]
  },
  {
   "cell_type": "markdown",
   "metadata": {},
   "source": [
    "Answer: \n",
    "\n",
    "I think no, because some columns had skewness and others not so that we assume not normally distribution."
   ]
  },
  {
   "cell_type": "markdown",
   "metadata": {},
   "source": [
    "Does This Assumption Hold for:\n",
    "    - Driving Licenses\n",
    "    - Traffic Accidents\n",
    "Explain your answers for each distribution and how you think this will affect estimates made from these data."
   ]
  },
  {
   "cell_type": "markdown",
   "metadata": {},
   "source": [
    "Answer: \n",
    "\n",
    "As I mentioned before the skeness effict on the distribution of data so, I odd the data might be normally distribution."
   ]
  },
  {
   "cell_type": "markdown",
   "metadata": {},
   "source": [
    "#### Statistical Evaluation of Distributions \n",
    "\n",
    "**If you feel it's appropriate**, using methods we discussed in class, run hypothesis tests to compare variables of interest in our dataset. "
   ]
  },
  {
   "cell_type": "code",
   "execution_count": null,
   "metadata": {},
   "outputs": [],
   "source": [
    "# Code"
   ]
  },
  {
   "cell_type": "markdown",
   "metadata": {},
   "source": [
    "## Outside Research"
   ]
  },
  {
   "cell_type": "markdown",
   "metadata": {},
   "source": [
    "Based upon your observations, choose **three** regions that demonstrate interesting trends in the number of driving licenses and traffic accidents. Spend some time doing outside research on provincial and central policies that might influence these rates, and summarize your findings below. **Feel free to go back and create new plots that highlight these states of interest**. If you bring in any outside tables or charts, make sure you are explicit about having borrowed them. If you quote any text, make sure that it renders as being quoted. (Make sure that you cite your sources -- check with you local instructor for citation preferences)."
   ]
  },
  {
   "cell_type": "markdown",
   "metadata": {},
   "source": [
    "Answer:"
   ]
  },
  {
   "cell_type": "markdown",
   "metadata": {},
   "source": [
    "## Conclusions and Recommendations"
   ]
  },
  {
   "cell_type": "markdown",
   "metadata": {},
   "source": [
    "- Based on your exploration of the data, what are you key takeaways and recommendations?\n",
    "- Are there additional data you desire that would better inform your investigations?"
   ]
  },
  {
   "cell_type": "markdown",
   "metadata": {},
   "source": [
    "Answer: \n",
    "\n",
    "First of full, I think we should focus on three regions Makkah , Riyadh and Eastern Region because they have the most percent of population so we need to add more rules and policies to limit of accidents. Then we should raise the awearance level between community specially Teenagers. We can minimize used cars by create new transportation such as metro and busses to limit accidents.\n",
    "\n",
    "Finally, I suggest adding more features 'columns' to get more inshgts such as age of persons who injuires and reasons of accidents such as high speed, used mobile or signal cutting.\n"
   ]
  }
 ],
 "metadata": {
  "anaconda-cloud": {},
  "kernelspec": {
   "display_name": "Python 3",
   "language": "python",
   "name": "python3"
  },
  "language_info": {
   "codemirror_mode": {
    "name": "ipython",
    "version": 3
   },
   "file_extension": ".py",
   "mimetype": "text/x-python",
   "name": "python",
   "nbconvert_exporter": "python",
   "pygments_lexer": "ipython3",
   "version": "3.8.5"
  }
 },
 "nbformat": 4,
 "nbformat_minor": 2
}
